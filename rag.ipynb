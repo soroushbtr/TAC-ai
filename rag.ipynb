{
 "cells": [
  {
   "cell_type": "markdown",
   "metadata": {},
   "source": [
    "# Getting Knowledge-Base"
   ]
  },
  {
   "cell_type": "code",
   "execution_count": 1,
   "metadata": {},
   "outputs": [
    {
     "name": "stderr",
     "output_type": "stream",
     "text": [
      "/home/ai/TAC2-lbz/lib/python3.9/site-packages/tqdm/auto.py:21: TqdmWarning: IProgress not found. Please update jupyter and ipywidgets. See https://ipywidgets.readthedocs.io/en/stable/user_install.html\n",
      "  from .autonotebook import tqdm as notebook_tqdm\n",
      "128it [00:00, 213.45it/s]\n"
     ]
    }
   ],
   "source": [
    "import fitz # it's pymupdf library\n",
    "from tqdm.auto import tqdm\n",
    "\n",
    "\n",
    "pdf_path = \"/home/ai/TAC2-lbz/knowledge_base.pdf\"\n",
    "\n",
    "# by this function our text would be cleaner and better for our LLM\n",
    "def text_formatter(text:str) -> str:\n",
    "    cleaned_text = text.replace(\"\\n\", \" \").strip()\n",
    "    return cleaned_text\n",
    "\n",
    "# now for opening the pdf and reading it we want this function:\n",
    "def open_and_read_pdf(pdf_path: str) -> list[dict]:\n",
    "    doc = fitz.open(pdf_path)\n",
    "    pages_and_texts = []\n",
    "    for page_number, page in tqdm(enumerate(doc)):\n",
    "        text = page.get_text()\n",
    "        text = text_formatter(text)\n",
    "        pages_and_texts.append({\"page_number\": page_number,\n",
    "                                \"page_char_count\": len(text),\n",
    "                                \"page_word_count\": len(text.split(\" \")),\n",
    "                                \"page_sentence_count_raw\": len(text.split(\". \")),\n",
    "                                \"page_token_count\": len(text) / 4, # 1 token is about 4 words. this will be need for passing to LLM\n",
    "                                \"text\": text })\n",
    "    return pages_and_texts\n",
    "\n",
    "pages_and_texts = open_and_read_pdf(pdf_path=pdf_path)\n",
    "# pages_and_texts[100]"
   ]
  },
  {
   "cell_type": "code",
   "execution_count": 2,
   "metadata": {},
   "outputs": [
    {
     "data": {
      "text/html": [
       "<div>\n",
       "<style scoped>\n",
       "    .dataframe tbody tr th:only-of-type {\n",
       "        vertical-align: middle;\n",
       "    }\n",
       "\n",
       "    .dataframe tbody tr th {\n",
       "        vertical-align: top;\n",
       "    }\n",
       "\n",
       "    .dataframe thead th {\n",
       "        text-align: right;\n",
       "    }\n",
       "</style>\n",
       "<table border=\"1\" class=\"dataframe\">\n",
       "  <thead>\n",
       "    <tr style=\"text-align: right;\">\n",
       "      <th></th>\n",
       "      <th>page_number</th>\n",
       "      <th>page_char_count</th>\n",
       "      <th>page_word_count</th>\n",
       "      <th>page_sentence_count_raw</th>\n",
       "      <th>page_token_count</th>\n",
       "      <th>text</th>\n",
       "    </tr>\n",
       "  </thead>\n",
       "  <tbody>\n",
       "    <tr>\n",
       "      <th>0</th>\n",
       "      <td>0</td>\n",
       "      <td>2143</td>\n",
       "      <td>372</td>\n",
       "      <td>8</td>\n",
       "      <td>535.75</td>\n",
       "      <td>– Advanced L2 functions – Stacking support – M...</td>\n",
       "    </tr>\n",
       "    <tr>\n",
       "      <th>1</th>\n",
       "      <td>1</td>\n",
       "      <td>653</td>\n",
       "      <td>116</td>\n",
       "      <td>1</td>\n",
       "      <td>163.25</td>\n",
       "      <td>www.eltex-co.ru 2 MES2124MB 220V PC 12V Batter...</td>\n",
       "    </tr>\n",
       "    <tr>\n",
       "      <th>2</th>\n",
       "      <td>2</td>\n",
       "      <td>2718</td>\n",
       "      <td>471</td>\n",
       "      <td>1</td>\n",
       "      <td>679.50</td>\n",
       "      <td>Interfaces functions – Head-of-line blocking (...</td>\n",
       "    </tr>\n",
       "    <tr>\n",
       "      <th>3</th>\n",
       "      <td>3</td>\n",
       "      <td>3002</td>\n",
       "      <td>546</td>\n",
       "      <td>1</td>\n",
       "      <td>750.50</td>\n",
       "      <td>ОАМ – IEEE 802.3ah Ethernet OAM – Dying Gasp  ...</td>\n",
       "    </tr>\n",
       "    <tr>\n",
       "      <th>4</th>\n",
       "      <td>4</td>\n",
       "      <td>2374</td>\n",
       "      <td>352</td>\n",
       "      <td>3</td>\n",
       "      <td>593.50</td>\n",
       "      <td>Name Description Image MES1124M AC Ethernet sw...</td>\n",
       "    </tr>\n",
       "  </tbody>\n",
       "</table>\n",
       "</div>"
      ],
      "text/plain": [
       "   page_number  page_char_count  page_word_count  page_sentence_count_raw  \\\n",
       "0            0             2143              372                        8   \n",
       "1            1              653              116                        1   \n",
       "2            2             2718              471                        1   \n",
       "3            3             3002              546                        1   \n",
       "4            4             2374              352                        3   \n",
       "\n",
       "   page_token_count                                               text  \n",
       "0            535.75  – Advanced L2 functions – Stacking support – M...  \n",
       "1            163.25  www.eltex-co.ru 2 MES2124MB 220V PC 12V Batter...  \n",
       "2            679.50  Interfaces functions – Head-of-line blocking (...  \n",
       "3            750.50  ОАМ – IEEE 802.3ah Ethernet OAM – Dying Gasp  ...  \n",
       "4            593.50  Name Description Image MES1124M AC Ethernet sw...  "
      ]
     },
     "execution_count": 2,
     "metadata": {},
     "output_type": "execute_result"
    }
   ],
   "source": [
    "# create dataFrames from our pages and texts\n",
    "import pandas as pd\n",
    "\n",
    "df = pd.DataFrame(pages_and_texts)\n",
    "df.head()"
   ]
  },
  {
   "cell_type": "code",
   "execution_count": 3,
   "metadata": {},
   "outputs": [
    {
     "data": {
      "text/html": [
       "<div>\n",
       "<style scoped>\n",
       "    .dataframe tbody tr th:only-of-type {\n",
       "        vertical-align: middle;\n",
       "    }\n",
       "\n",
       "    .dataframe tbody tr th {\n",
       "        vertical-align: top;\n",
       "    }\n",
       "\n",
       "    .dataframe thead th {\n",
       "        text-align: right;\n",
       "    }\n",
       "</style>\n",
       "<table border=\"1\" class=\"dataframe\">\n",
       "  <thead>\n",
       "    <tr style=\"text-align: right;\">\n",
       "      <th></th>\n",
       "      <th>page_number</th>\n",
       "      <th>page_char_count</th>\n",
       "      <th>page_word_count</th>\n",
       "      <th>page_sentence_count_raw</th>\n",
       "      <th>page_token_count</th>\n",
       "    </tr>\n",
       "  </thead>\n",
       "  <tbody>\n",
       "    <tr>\n",
       "      <th>count</th>\n",
       "      <td>128.00</td>\n",
       "      <td>128.00</td>\n",
       "      <td>128.00</td>\n",
       "      <td>128.00</td>\n",
       "      <td>128.00</td>\n",
       "    </tr>\n",
       "    <tr>\n",
       "      <th>mean</th>\n",
       "      <td>63.50</td>\n",
       "      <td>2153.27</td>\n",
       "      <td>364.02</td>\n",
       "      <td>3.11</td>\n",
       "      <td>538.32</td>\n",
       "    </tr>\n",
       "    <tr>\n",
       "      <th>std</th>\n",
       "      <td>37.09</td>\n",
       "      <td>830.73</td>\n",
       "      <td>145.39</td>\n",
       "      <td>2.50</td>\n",
       "      <td>207.68</td>\n",
       "    </tr>\n",
       "    <tr>\n",
       "      <th>min</th>\n",
       "      <td>0.00</td>\n",
       "      <td>484.00</td>\n",
       "      <td>65.00</td>\n",
       "      <td>1.00</td>\n",
       "      <td>121.00</td>\n",
       "    </tr>\n",
       "    <tr>\n",
       "      <th>25%</th>\n",
       "      <td>31.75</td>\n",
       "      <td>1565.50</td>\n",
       "      <td>260.00</td>\n",
       "      <td>1.00</td>\n",
       "      <td>391.38</td>\n",
       "    </tr>\n",
       "    <tr>\n",
       "      <th>50%</th>\n",
       "      <td>63.50</td>\n",
       "      <td>2075.50</td>\n",
       "      <td>355.00</td>\n",
       "      <td>2.00</td>\n",
       "      <td>518.88</td>\n",
       "    </tr>\n",
       "    <tr>\n",
       "      <th>75%</th>\n",
       "      <td>95.25</td>\n",
       "      <td>2687.00</td>\n",
       "      <td>455.75</td>\n",
       "      <td>3.25</td>\n",
       "      <td>671.75</td>\n",
       "    </tr>\n",
       "    <tr>\n",
       "      <th>max</th>\n",
       "      <td>127.00</td>\n",
       "      <td>4862.00</td>\n",
       "      <td>809.00</td>\n",
       "      <td>12.00</td>\n",
       "      <td>1215.50</td>\n",
       "    </tr>\n",
       "  </tbody>\n",
       "</table>\n",
       "</div>"
      ],
      "text/plain": [
       "       page_number  page_char_count  page_word_count  page_sentence_count_raw  \\\n",
       "count       128.00           128.00           128.00                   128.00   \n",
       "mean         63.50          2153.27           364.02                     3.11   \n",
       "std          37.09           830.73           145.39                     2.50   \n",
       "min           0.00           484.00            65.00                     1.00   \n",
       "25%          31.75          1565.50           260.00                     1.00   \n",
       "50%          63.50          2075.50           355.00                     2.00   \n",
       "75%          95.25          2687.00           455.75                     3.25   \n",
       "max         127.00          4862.00           809.00                    12.00   \n",
       "\n",
       "       page_token_count  \n",
       "count            128.00  \n",
       "mean             538.32  \n",
       "std              207.68  \n",
       "min              121.00  \n",
       "25%              391.38  \n",
       "50%              518.88  \n",
       "75%              671.75  \n",
       "max             1215.50  "
      ]
     },
     "execution_count": 3,
     "metadata": {},
     "output_type": "execute_result"
    }
   ],
   "source": [
    "df.describe().round(2)"
   ]
  },
  {
   "cell_type": "markdown",
   "metadata": {},
   "source": [
    "# Data PreProcess"
   ]
  },
  {
   "cell_type": "markdown",
   "metadata": {},
   "source": [
    "token count is important because we can't use embedding models with infinite tokens, and also LLMs. so fo choosing best embedding model and best LLM we have to know token count."
   ]
  },
  {
   "cell_type": "code",
   "execution_count": 4,
   "metadata": {},
   "outputs": [
    {
     "name": "stderr",
     "output_type": "stream",
     "text": [
      "100%|██████████| 128/128 [00:00<00:00, 646.45it/s]\n"
     ]
    }
   ],
   "source": [
    "from spacy.lang.en import English\n",
    "\n",
    "nlp = English()\n",
    "\n",
    "nlp.add_pipe(\"sentencizer\")\n",
    "\n",
    "for item in tqdm(pages_and_texts):\n",
    "    item[\"sentences\"] = list(nlp(item[\"text\"]).sents)\n",
    "    \n",
    "    item[\"sentences\"] = [str(sentence) for sentence in item[\"sentences\"]]\n",
    "    item[\"page_sentence_count_spacy\"] = len(item[\"sentences\"])"
   ]
  },
  {
   "cell_type": "code",
   "execution_count": 5,
   "metadata": {},
   "outputs": [
    {
     "data": {
      "text/plain": [
       "[{'page_number': 22,\n",
       "  'page_char_count': 1411,\n",
       "  'page_word_count': 255,\n",
       "  'page_sentence_count_raw': 3,\n",
       "  'page_token_count': 352.75,\n",
       "  'text': '2 MES2424B/ MES2424FB/ MES2448B/ MES2448E 220V PC 12V 2 Battery capacity,  Ah Battery life, h Battery charge  time, h MES2424B 12 ≈6 ≈9 17 ≈10 ≈13 20 ≈13 ≈15 MES2424FB 12 ≈5 ≈13 17 ≈7 ≈18 20 ≈10 ≈22 MES2448B MES2448E 12 ≈2,5 ≈13 17 ≈5 ≈18 20 ≈6,5 ≈22 *  Technical features of redundancy power supply 3 * Note: — Parameters are given for environment temperature +25 °C; — For MES2424B the use of a rechargeable battery with a capacity  of at least 12 Ah; — For MES2424FB, MES2448B, MES2448E the use of a  rechargeable battery with a capacity of at least 9 Ah is  recommended.  — MES2448E is under development. Technical features (continued) MES2424 AC MES2424 DC MES2424B MES2424FB   MES2448 DC MES2448B MES2448E L3 Multicast groups (IGMP  proxy) 512 512 512 512 2048 2048 2048 SQinQ rules 384 (ingress)/512 (egress) 768 (ingress)/1024 (egress) MAC ACL rules 509 509 509 509 766 766 766 IPv4/IPv6 ACL rules 384/192 384/192 640/320 640/320 640/320 640/320 640/320 L3 IPv4 Unicast routes 406 406 406 406 1958 1958 1958 L3 IPv6 Unicast routes 22 VRRP routers 32 L3 interfaces 8 VLANs, up to 5 IPv4 addresses for each VLAN, up to 22 IPv6 GUA for all VLANs in summary Link Aggregation Groups (LAG) 24 groups, up to 8 ports per LAG Quality of Service (QoS) 8 egress queues per port Jumbo frames maximum packet size is 12288 bytes Data Sheet MES Ethernet Access Switches Integrated networking solutions www.eltex-co.com',\n",
       "  'sentences': ['2 MES2424B/ MES2424FB/ MES2448B/ MES2448E 220V PC 12V 2 Battery capacity,  Ah Battery life, h Battery charge  time, h MES2424B 12 ≈6 ≈9 17 ≈10 ≈13 20 ≈13 ≈15 MES2424FB 12 ≈5 ≈13 17 ≈7 ≈18 20 ≈10 ≈22 MES2448B MES2448E 12 ≈2,5 ≈13 17 ≈5 ≈18 20 ≈6,5 ≈22 *  Technical features of redundancy power supply 3 * Note: — Parameters are given for environment temperature +25 °C; — For MES2424B the use of a rechargeable battery with a capacity  of at least 12 Ah; — For MES2424FB, MES2448B, MES2448E the use of a  rechargeable battery with a capacity of at least 9 Ah is  recommended.',\n",
       "   ' — MES2448E is under development.',\n",
       "   'Technical features (continued) MES2424 AC MES2424 DC MES2424B MES2424FB   MES2448 DC MES2448B MES2448E L3 Multicast groups (IGMP  proxy) 512 512 512 512 2048 2048 2048 SQinQ rules 384 (ingress)/512 (egress) 768 (ingress)/1024 (egress) MAC ACL rules 509 509 509 509 766 766 766 IPv4/IPv6 ACL rules 384/192 384/192 640/320 640/320 640/320 640/320 640/320 L3 IPv4 Unicast routes 406 406 406 406 1958 1958 1958 L3 IPv6 Unicast routes 22 VRRP routers 32 L3 interfaces 8 VLANs, up to 5 IPv4 addresses for each VLAN, up to 22 IPv6 GUA for all VLANs in summary Link Aggregation Groups (LAG) 24 groups, up to 8 ports per LAG Quality of Service (QoS) 8 egress queues per port Jumbo frames maximum packet size is 12288 bytes Data Sheet MES Ethernet Access Switches Integrated networking solutions www.eltex-co.com'],\n",
       "  'page_sentence_count_spacy': 3}]"
      ]
     },
     "execution_count": 5,
     "metadata": {},
     "output_type": "execute_result"
    }
   ],
   "source": [
    "import random \n",
    "random.sample(pages_and_texts, k=1)"
   ]
  },
  {
   "cell_type": "code",
   "execution_count": 6,
   "metadata": {},
   "outputs": [
    {
     "data": {
      "text/html": [
       "<div>\n",
       "<style scoped>\n",
       "    .dataframe tbody tr th:only-of-type {\n",
       "        vertical-align: middle;\n",
       "    }\n",
       "\n",
       "    .dataframe tbody tr th {\n",
       "        vertical-align: top;\n",
       "    }\n",
       "\n",
       "    .dataframe thead th {\n",
       "        text-align: right;\n",
       "    }\n",
       "</style>\n",
       "<table border=\"1\" class=\"dataframe\">\n",
       "  <thead>\n",
       "    <tr style=\"text-align: right;\">\n",
       "      <th></th>\n",
       "      <th>page_number</th>\n",
       "      <th>page_char_count</th>\n",
       "      <th>page_word_count</th>\n",
       "      <th>page_sentence_count_raw</th>\n",
       "      <th>page_token_count</th>\n",
       "      <th>page_sentence_count_spacy</th>\n",
       "    </tr>\n",
       "  </thead>\n",
       "  <tbody>\n",
       "    <tr>\n",
       "      <th>count</th>\n",
       "      <td>128.00</td>\n",
       "      <td>128.00</td>\n",
       "      <td>128.00</td>\n",
       "      <td>128.00</td>\n",
       "      <td>128.00</td>\n",
       "      <td>128.00</td>\n",
       "    </tr>\n",
       "    <tr>\n",
       "      <th>mean</th>\n",
       "      <td>63.50</td>\n",
       "      <td>2153.27</td>\n",
       "      <td>364.02</td>\n",
       "      <td>3.11</td>\n",
       "      <td>538.32</td>\n",
       "      <td>3.19</td>\n",
       "    </tr>\n",
       "    <tr>\n",
       "      <th>std</th>\n",
       "      <td>37.09</td>\n",
       "      <td>830.73</td>\n",
       "      <td>145.39</td>\n",
       "      <td>2.50</td>\n",
       "      <td>207.68</td>\n",
       "      <td>2.77</td>\n",
       "    </tr>\n",
       "    <tr>\n",
       "      <th>min</th>\n",
       "      <td>0.00</td>\n",
       "      <td>484.00</td>\n",
       "      <td>65.00</td>\n",
       "      <td>1.00</td>\n",
       "      <td>121.00</td>\n",
       "      <td>1.00</td>\n",
       "    </tr>\n",
       "    <tr>\n",
       "      <th>25%</th>\n",
       "      <td>31.75</td>\n",
       "      <td>1565.50</td>\n",
       "      <td>260.00</td>\n",
       "      <td>1.00</td>\n",
       "      <td>391.38</td>\n",
       "      <td>1.00</td>\n",
       "    </tr>\n",
       "    <tr>\n",
       "      <th>50%</th>\n",
       "      <td>63.50</td>\n",
       "      <td>2075.50</td>\n",
       "      <td>355.00</td>\n",
       "      <td>2.00</td>\n",
       "      <td>518.88</td>\n",
       "      <td>2.00</td>\n",
       "    </tr>\n",
       "    <tr>\n",
       "      <th>75%</th>\n",
       "      <td>95.25</td>\n",
       "      <td>2687.00</td>\n",
       "      <td>455.75</td>\n",
       "      <td>3.25</td>\n",
       "      <td>671.75</td>\n",
       "      <td>4.00</td>\n",
       "    </tr>\n",
       "    <tr>\n",
       "      <th>max</th>\n",
       "      <td>127.00</td>\n",
       "      <td>4862.00</td>\n",
       "      <td>809.00</td>\n",
       "      <td>12.00</td>\n",
       "      <td>1215.50</td>\n",
       "      <td>13.00</td>\n",
       "    </tr>\n",
       "  </tbody>\n",
       "</table>\n",
       "</div>"
      ],
      "text/plain": [
       "       page_number  page_char_count  page_word_count  page_sentence_count_raw  \\\n",
       "count       128.00           128.00           128.00                   128.00   \n",
       "mean         63.50          2153.27           364.02                     3.11   \n",
       "std          37.09           830.73           145.39                     2.50   \n",
       "min           0.00           484.00            65.00                     1.00   \n",
       "25%          31.75          1565.50           260.00                     1.00   \n",
       "50%          63.50          2075.50           355.00                     2.00   \n",
       "75%          95.25          2687.00           455.75                     3.25   \n",
       "max         127.00          4862.00           809.00                    12.00   \n",
       "\n",
       "       page_token_count  page_sentence_count_spacy  \n",
       "count            128.00                     128.00  \n",
       "mean             538.32                       3.19  \n",
       "std              207.68                       2.77  \n",
       "min              121.00                       1.00  \n",
       "25%              391.38                       1.00  \n",
       "50%              518.88                       2.00  \n",
       "75%              671.75                       4.00  \n",
       "max             1215.50                      13.00  "
      ]
     },
     "execution_count": 6,
     "metadata": {},
     "output_type": "execute_result"
    }
   ],
   "source": [
    "df = pd.DataFrame(pages_and_texts)\n",
    "df.describe().round(2)"
   ]
  },
  {
   "cell_type": "markdown",
   "metadata": {},
   "source": [
    "Lets chunk our large sentences into smaller one\n",
    "\n",
    "splitting sentences in group of 10 sentences \n",
    "\n",
    "it's called text splitting and libraries like **LangChain** can do this for us\n",
    "\n",
    "Goal of doing this is to be more easier to filter our sentences and also much easier for our embedding model."
   ]
  },
  {
   "cell_type": "code",
   "execution_count": 7,
   "metadata": {},
   "outputs": [],
   "source": [
    "# Defining the group size\n",
    "num_sentences_chunk_size = 10\n",
    "\n",
    "def split_list(input_list:list[str], slice_size:int=num_sentences_chunk_size) -> list[list[str]]:\n",
    "    return [input_list[i: i + slice_size] for i in range(0, len(input_list), slice_size)]"
   ]
  },
  {
   "cell_type": "code",
   "execution_count": 8,
   "metadata": {},
   "outputs": [
    {
     "name": "stderr",
     "output_type": "stream",
     "text": [
      "100%|██████████| 128/128 [00:00<00:00, 972592.23it/s]\n"
     ]
    }
   ],
   "source": [
    "for item in tqdm(pages_and_texts):\n",
    "    item[\"sentence_chunks\"] = split_list(item[\"sentences\"])\n",
    "    item[\"number_of_chunks\"] = len(item[\"sentence_chunks\"])"
   ]
  },
  {
   "cell_type": "code",
   "execution_count": 9,
   "metadata": {},
   "outputs": [
    {
     "data": {
      "text/plain": [
       "[{'page_number': 34,\n",
       "  'page_char_count': 3196,\n",
       "  'page_word_count': 546,\n",
       "  'page_sentence_count_raw': 2,\n",
       "  'page_token_count': 799.0,\n",
       "  'text': '3 www.eltex-co.com 3 IРv6 support — IPv6 Host — Dual-stack IPv4, IРv6 Security functions — DHCP Snooping — DHCP Option 82 — IP Source Guard — Dynamic ARP Inspection (Protection) — MAC-based authentication, Port Security, static MAC  addresses — IEEE 802.1x based authentication per ports — Guest VLAN — DoS attacks prevention — Traffic segmentation — DHCP clients filtering — BPDU attacks prevention — PPPoE Intermediate Agent — DHCPv6 Snooping — IPv6 Source Guard — IPv6 ND Inspection — IPv6 RA Guard Access control lists (ACL) — L2-L3-L4 ACL (Access Control List) — IPv6 ACL — ACL based on: — Switch port — IEEE 802.1p — VLAN ID — EtherType — DSCP — IP protocol type — TCP/UDP port number — User Defined Bytes Quality of Service (QoS) and rate limiting — Shaping, policing — Support for IEEE 802.1p Class of Service — Strict Priority/Weighted Round Robin (WRR)  — ACL-based traffic classification — ACL-based CoS/DSCP marking — DSCP to CoS remarking — CoS to DSCP remarking — ACL-based VLAN assignment OAM   — IEEE802.3ah, Ethernet OAM — IEEE 802.3ah Unidirectional Link Detection (UDLD) Main management functions — Download and upload of configuration file via TFTP/SFTP — Automated backup of configuration file via TFTP/SFTP — Simple Network Management Protocol (SNMP) — Command Line Interface (CLI) — Web interface — Syslog — SNTP (Simple Network Time Protocol) — Traceroute — LLDP (IEEE 802.1ab) + LLDP MED — Two 802.1Q headers traffic control — Commands Authorization using TACACS+ server — IPv4/IPv6 ACL support for device control — Switch access management – privilege levels for users — Management interface blocking — Local authentication — IP addresses filtering for SNMP — RADIUS and TACACS+ (Terminal Access Controller   Access  Control System) clients — Telnet client, SSH client — Telnet server, SSH server — Macro commands — Input commands logging via TACACS+ protocol — DHCP auto configuration — DHCP Relay (IРv4 support) — DHCP Relay Option 82 1 — DHCP server — PPPoE Circuit-ID tag adding — Flash File System — Debug commands — CPU traffic limiting — Password encryption — Ping (IPv4/IPv6 support) — IPv4/IPv6 static routing — Support for several versions of configuration file Monitoring functions — Interface statistics — CPU utilization monitoring per task and per queue — RAM usage monitoring — Temperature monitoring — TCAM monitoring MIB/IETF — RFC 1065, 1066, 1155, 1156, 2578 MIB Structure — RFC 1212 Concise MIB Definitions — RFC 1213 MIB II — RFC 1215 MIB Traps Convention — RFC 1493, 4188 Bridge MIB — RFC 1157, 2571-2576 SNMP MIB — RFC 1901-1908, 3418, 3636, 1442, 2578 SNMPv2 MIB — RFC 2465 IPv6 MIB — RFC 2737 Entity MIB — RFC 4293 IPv6 SNMP Mgmt Interface MIB — Private MIB — RFC 1398, 1643, 1650, 2358, 2665, 3635 Ether-like MIB — RFC 2668 802.3 MAU MIB — RFC 2674, 4363 802.1p MIB — RFC 2233, 2863 IF MIB — RFC 2618 RADIUS Authentication Client MIB — RFC 4022 MIB for TCP — RFC 4113 MIB for UDP — RFC 3289 MIB for Diffserv — RFC 2620 RADIUS Accounting Client MIB — RFC 768 UDP Features and capabilities (continued)  1 Only for MES2424P, MES2448P, MES2420-48P. Data Sheet MES24xx series Ethernet access switches with PoE support Integrated networking solutions',\n",
       "  'sentences': ['3 www.eltex-co.com 3 IРv6 support — IPv6 Host — Dual-stack IPv4, IРv6 Security functions — DHCP Snooping — DHCP Option 82 — IP Source Guard — Dynamic ARP Inspection (Protection) — MAC-based authentication, Port Security, static MAC  addresses — IEEE 802.1x based authentication per ports — Guest VLAN — DoS attacks prevention — Traffic segmentation — DHCP clients filtering — BPDU attacks prevention — PPPoE Intermediate Agent — DHCPv6 Snooping — IPv6 Source Guard — IPv6 ND Inspection — IPv6 RA Guard Access control lists (ACL) — L2-L3-L4 ACL (Access Control List) — IPv6 ACL — ACL based on: — Switch port — IEEE 802.1p — VLAN ID — EtherType — DSCP — IP protocol type — TCP/UDP port number — User Defined Bytes Quality of Service (QoS) and rate limiting — Shaping, policing — Support for IEEE 802.1p Class of Service — Strict Priority/Weighted Round Robin (WRR)  — ACL-based traffic classification — ACL-based CoS/DSCP marking — DSCP to CoS remarking — CoS to DSCP remarking — ACL-based VLAN assignment OAM   — IEEE802.3ah, Ethernet OAM — IEEE 802.3ah Unidirectional Link Detection (UDLD) Main management functions — Download and upload of configuration file via TFTP/SFTP — Automated backup of configuration file via TFTP/SFTP — Simple Network Management Protocol (SNMP) — Command Line Interface (CLI) — Web interface — Syslog — SNTP (Simple Network Time Protocol) — Traceroute — LLDP (IEEE 802.1ab) + LLDP MED — Two 802.1Q headers traffic control — Commands Authorization using TACACS+ server — IPv4/IPv6 ACL support for device control — Switch access management – privilege levels for users — Management interface blocking — Local authentication — IP addresses filtering for SNMP — RADIUS and TACACS+ (Terminal Access Controller   Access  Control System) clients — Telnet client, SSH client — Telnet server, SSH server — Macro commands — Input commands logging via TACACS+ protocol — DHCP auto configuration — DHCP Relay (IРv4 support) — DHCP Relay Option 82 1 — DHCP server — PPPoE Circuit-ID tag adding — Flash File System — Debug commands — CPU traffic limiting — Password encryption — Ping (IPv4/IPv6 support) — IPv4/IPv6 static routing — Support for several versions of configuration file Monitoring functions — Interface statistics — CPU utilization monitoring per task and per queue — RAM usage monitoring — Temperature monitoring — TCAM monitoring MIB/IETF — RFC 1065, 1066, 1155, 1156, 2578 MIB Structure — RFC 1212 Concise MIB Definitions — RFC 1213 MIB II — RFC 1215 MIB Traps Convention — RFC 1493, 4188 Bridge MIB — RFC 1157, 2571-2576 SNMP MIB — RFC 1901-1908, 3418, 3636, 1442, 2578 SNMPv2 MIB — RFC 2465 IPv6 MIB — RFC 2737 Entity MIB — RFC 4293 IPv6 SNMP Mgmt Interface MIB — Private MIB — RFC 1398, 1643, 1650, 2358, 2665, 3635 Ether-like MIB — RFC 2668 802.3 MAU MIB — RFC 2674, 4363 802.1p MIB — RFC 2233, 2863 IF MIB — RFC 2618 RADIUS Authentication Client MIB — RFC 4022 MIB for TCP — RFC 4113 MIB for UDP — RFC 3289 MIB for Diffserv — RFC 2620 RADIUS Accounting Client MIB — RFC 768 UDP Features and capabilities (continued)  1 Only for MES2424P, MES2448P, MES2420-48P. Data Sheet MES24xx series Ethernet access switches with PoE support Integrated networking solutions'],\n",
       "  'page_sentence_count_spacy': 1,\n",
       "  'sentence_chunks': [['3 www.eltex-co.com 3 IРv6 support — IPv6 Host — Dual-stack IPv4, IРv6 Security functions — DHCP Snooping — DHCP Option 82 — IP Source Guard — Dynamic ARP Inspection (Protection) — MAC-based authentication, Port Security, static MAC  addresses — IEEE 802.1x based authentication per ports — Guest VLAN — DoS attacks prevention — Traffic segmentation — DHCP clients filtering — BPDU attacks prevention — PPPoE Intermediate Agent — DHCPv6 Snooping — IPv6 Source Guard — IPv6 ND Inspection — IPv6 RA Guard Access control lists (ACL) — L2-L3-L4 ACL (Access Control List) — IPv6 ACL — ACL based on: — Switch port — IEEE 802.1p — VLAN ID — EtherType — DSCP — IP protocol type — TCP/UDP port number — User Defined Bytes Quality of Service (QoS) and rate limiting — Shaping, policing — Support for IEEE 802.1p Class of Service — Strict Priority/Weighted Round Robin (WRR)  — ACL-based traffic classification — ACL-based CoS/DSCP marking — DSCP to CoS remarking — CoS to DSCP remarking — ACL-based VLAN assignment OAM   — IEEE802.3ah, Ethernet OAM — IEEE 802.3ah Unidirectional Link Detection (UDLD) Main management functions — Download and upload of configuration file via TFTP/SFTP — Automated backup of configuration file via TFTP/SFTP — Simple Network Management Protocol (SNMP) — Command Line Interface (CLI) — Web interface — Syslog — SNTP (Simple Network Time Protocol) — Traceroute — LLDP (IEEE 802.1ab) + LLDP MED — Two 802.1Q headers traffic control — Commands Authorization using TACACS+ server — IPv4/IPv6 ACL support for device control — Switch access management – privilege levels for users — Management interface blocking — Local authentication — IP addresses filtering for SNMP — RADIUS and TACACS+ (Terminal Access Controller   Access  Control System) clients — Telnet client, SSH client — Telnet server, SSH server — Macro commands — Input commands logging via TACACS+ protocol — DHCP auto configuration — DHCP Relay (IРv4 support) — DHCP Relay Option 82 1 — DHCP server — PPPoE Circuit-ID tag adding — Flash File System — Debug commands — CPU traffic limiting — Password encryption — Ping (IPv4/IPv6 support) — IPv4/IPv6 static routing — Support for several versions of configuration file Monitoring functions — Interface statistics — CPU utilization monitoring per task and per queue — RAM usage monitoring — Temperature monitoring — TCAM monitoring MIB/IETF — RFC 1065, 1066, 1155, 1156, 2578 MIB Structure — RFC 1212 Concise MIB Definitions — RFC 1213 MIB II — RFC 1215 MIB Traps Convention — RFC 1493, 4188 Bridge MIB — RFC 1157, 2571-2576 SNMP MIB — RFC 1901-1908, 3418, 3636, 1442, 2578 SNMPv2 MIB — RFC 2465 IPv6 MIB — RFC 2737 Entity MIB — RFC 4293 IPv6 SNMP Mgmt Interface MIB — Private MIB — RFC 1398, 1643, 1650, 2358, 2665, 3635 Ether-like MIB — RFC 2668 802.3 MAU MIB — RFC 2674, 4363 802.1p MIB — RFC 2233, 2863 IF MIB — RFC 2618 RADIUS Authentication Client MIB — RFC 4022 MIB for TCP — RFC 4113 MIB for UDP — RFC 3289 MIB for Diffserv — RFC 2620 RADIUS Accounting Client MIB — RFC 768 UDP Features and capabilities (continued)  1 Only for MES2424P, MES2448P, MES2420-48P. Data Sheet MES24xx series Ethernet access switches with PoE support Integrated networking solutions']],\n",
       "  'number_of_chunks': 1}]"
      ]
     },
     "execution_count": 9,
     "metadata": {},
     "output_type": "execute_result"
    }
   ],
   "source": [
    "# lets see what we are doing :D\n",
    "\n",
    "random.sample(pages_and_texts, k=1)"
   ]
  },
  {
   "cell_type": "code",
   "execution_count": 10,
   "metadata": {},
   "outputs": [
    {
     "data": {
      "text/html": [
       "<div>\n",
       "<style scoped>\n",
       "    .dataframe tbody tr th:only-of-type {\n",
       "        vertical-align: middle;\n",
       "    }\n",
       "\n",
       "    .dataframe tbody tr th {\n",
       "        vertical-align: top;\n",
       "    }\n",
       "\n",
       "    .dataframe thead th {\n",
       "        text-align: right;\n",
       "    }\n",
       "</style>\n",
       "<table border=\"1\" class=\"dataframe\">\n",
       "  <thead>\n",
       "    <tr style=\"text-align: right;\">\n",
       "      <th></th>\n",
       "      <th>page_number</th>\n",
       "      <th>page_char_count</th>\n",
       "      <th>page_word_count</th>\n",
       "      <th>page_sentence_count_raw</th>\n",
       "      <th>page_token_count</th>\n",
       "      <th>page_sentence_count_spacy</th>\n",
       "      <th>number_of_chunks</th>\n",
       "    </tr>\n",
       "  </thead>\n",
       "  <tbody>\n",
       "    <tr>\n",
       "      <th>count</th>\n",
       "      <td>128.00</td>\n",
       "      <td>128.00</td>\n",
       "      <td>128.00</td>\n",
       "      <td>128.00</td>\n",
       "      <td>128.00</td>\n",
       "      <td>128.00</td>\n",
       "      <td>128.00</td>\n",
       "    </tr>\n",
       "    <tr>\n",
       "      <th>mean</th>\n",
       "      <td>63.50</td>\n",
       "      <td>2153.27</td>\n",
       "      <td>364.02</td>\n",
       "      <td>3.11</td>\n",
       "      <td>538.32</td>\n",
       "      <td>3.19</td>\n",
       "      <td>1.02</td>\n",
       "    </tr>\n",
       "    <tr>\n",
       "      <th>std</th>\n",
       "      <td>37.09</td>\n",
       "      <td>830.73</td>\n",
       "      <td>145.39</td>\n",
       "      <td>2.50</td>\n",
       "      <td>207.68</td>\n",
       "      <td>2.77</td>\n",
       "      <td>0.12</td>\n",
       "    </tr>\n",
       "    <tr>\n",
       "      <th>min</th>\n",
       "      <td>0.00</td>\n",
       "      <td>484.00</td>\n",
       "      <td>65.00</td>\n",
       "      <td>1.00</td>\n",
       "      <td>121.00</td>\n",
       "      <td>1.00</td>\n",
       "      <td>1.00</td>\n",
       "    </tr>\n",
       "    <tr>\n",
       "      <th>25%</th>\n",
       "      <td>31.75</td>\n",
       "      <td>1565.50</td>\n",
       "      <td>260.00</td>\n",
       "      <td>1.00</td>\n",
       "      <td>391.38</td>\n",
       "      <td>1.00</td>\n",
       "      <td>1.00</td>\n",
       "    </tr>\n",
       "    <tr>\n",
       "      <th>50%</th>\n",
       "      <td>63.50</td>\n",
       "      <td>2075.50</td>\n",
       "      <td>355.00</td>\n",
       "      <td>2.00</td>\n",
       "      <td>518.88</td>\n",
       "      <td>2.00</td>\n",
       "      <td>1.00</td>\n",
       "    </tr>\n",
       "    <tr>\n",
       "      <th>75%</th>\n",
       "      <td>95.25</td>\n",
       "      <td>2687.00</td>\n",
       "      <td>455.75</td>\n",
       "      <td>3.25</td>\n",
       "      <td>671.75</td>\n",
       "      <td>4.00</td>\n",
       "      <td>1.00</td>\n",
       "    </tr>\n",
       "    <tr>\n",
       "      <th>max</th>\n",
       "      <td>127.00</td>\n",
       "      <td>4862.00</td>\n",
       "      <td>809.00</td>\n",
       "      <td>12.00</td>\n",
       "      <td>1215.50</td>\n",
       "      <td>13.00</td>\n",
       "      <td>2.00</td>\n",
       "    </tr>\n",
       "  </tbody>\n",
       "</table>\n",
       "</div>"
      ],
      "text/plain": [
       "       page_number  page_char_count  page_word_count  page_sentence_count_raw  \\\n",
       "count       128.00           128.00           128.00                   128.00   \n",
       "mean         63.50          2153.27           364.02                     3.11   \n",
       "std          37.09           830.73           145.39                     2.50   \n",
       "min           0.00           484.00            65.00                     1.00   \n",
       "25%          31.75          1565.50           260.00                     1.00   \n",
       "50%          63.50          2075.50           355.00                     2.00   \n",
       "75%          95.25          2687.00           455.75                     3.25   \n",
       "max         127.00          4862.00           809.00                    12.00   \n",
       "\n",
       "       page_token_count  page_sentence_count_spacy  number_of_chunks  \n",
       "count            128.00                     128.00            128.00  \n",
       "mean             538.32                       3.19              1.02  \n",
       "std              207.68                       2.77              0.12  \n",
       "min              121.00                       1.00              1.00  \n",
       "25%              391.38                       1.00              1.00  \n",
       "50%              518.88                       2.00              1.00  \n",
       "75%              671.75                       4.00              1.00  \n",
       "max             1215.50                      13.00              2.00  "
      ]
     },
     "execution_count": 10,
     "metadata": {},
     "output_type": "execute_result"
    }
   ],
   "source": [
    "df= pd.DataFrame(pages_and_texts)\n",
    "df.describe().round(2)"
   ]
  },
  {
   "cell_type": "markdown",
   "metadata": {},
   "source": [
    "now we want to have each chunk as a dictionary item  not in as a list of sentence chunks"
   ]
  },
  {
   "cell_type": "code",
   "execution_count": 11,
   "metadata": {},
   "outputs": [
    {
     "name": "stderr",
     "output_type": "stream",
     "text": [
      "100%|██████████| 128/128 [00:00<00:00, 35507.34it/s]\n"
     ]
    },
    {
     "data": {
      "text/plain": [
       "130"
      ]
     },
     "execution_count": 11,
     "metadata": {},
     "output_type": "execute_result"
    }
   ],
   "source": [
    "import re # re is a python library and stands for regex. regex also stands for regular expression XD\n",
    "\n",
    "pages_and_chunks = []\n",
    "for item in tqdm(pages_and_texts):\n",
    "    for sentence_chunk in item[\"sentence_chunks\"]:\n",
    "        chunk_dict = {}\n",
    "        chunk_dict[\"page_number\"] = item[\"page_number\"]\n",
    "        # join sentences together into a paragraph\n",
    "        joined_sentence_chunk = \"\".join(sentence_chunk).replace(\"  \", \" \").strip()\n",
    "        joined_sentence_chunk = re.sub(r'\\.([A-Z])', r'. \\1', joined_sentence_chunk) # '.A' -> ', A'\n",
    "        \n",
    "        chunk_dict[\"sentence_chunk\"] = joined_sentence_chunk\n",
    "        chunk_dict[\"chunk_char_count\"] = len(joined_sentence_chunk)\n",
    "        chunk_dict[\"chunk_word_count\"] = len([word for word in (joined_sentence_chunk.split(\" \"))])\n",
    "        chunk_dict[\"chunk_token_count\"] = len(joined_sentence_chunk) / 4 # 1  token has 4 chars\n",
    "        \n",
    "        pages_and_chunks.append(chunk_dict)\n",
    "        \n",
    "len(pages_and_chunks) # to see how many pages and chunks we have "
   ]
  },
  {
   "cell_type": "code",
   "execution_count": 12,
   "metadata": {},
   "outputs": [
    {
     "data": {
      "text/plain": [
       "[{'page_number': 37,\n",
       "  'sentence_chunk': 'Name Description MES2408CP Ethernet switch MES2408CP, 8 ports of 10/100/1000BASE-T (PoE/PoE+), 2 Combo ports of 10/100/1000BASE-T/100BASE-FX/1000BASE-X, L2, 110–250 V AC MES2408P AC Ethernet switch MES2408P AC, 8 ports of 10/100/1000BASE-T (PoE/PoE+), 2 ports of 100BASE-FX/ 1000BASE-X, L2, V AC 176–250  MES2408P DC Ethernet switch MES2408P DC, 8 ports of 10/100/1000BASE-T (PoE/PoE+), 2 ports of 100BASE-FX/ 1000BASE-X, L2, 36–72 V DC MES2408PL Ethernet switch MES2408PL, 8 ports of 10/100/1000BASE-T (PoE/PoE+), 2 ports of 100BASE-FX/ 1000BASE-X, L2, 110–250 V AC  MES2428P AC Ethernet switch MES2428P AC, 24 ports of 10/100/1000BASE-T (PoE/PoE+), 4 Combo ports of 10/100/1000BASE-T/100BASE-FX/1000BASE-X, L2, 17 –264 V AC 6  MES2428P DC Ethernet switch MES2428P DC, 24 ports of 10/100/1000BASE-T (PoE/PoE+), 4 Combo ports of 10/100/1000BASE-T/100BASE-FX/1000BASE-X, L2, 36 72 V DC – MES2424P Ethernet switch MES2424P, 24 ports of 10/100/1000BASE-T (PoE/PoE+), 4 ports of 1000BASE-X/ 10GBASE-R, L3, 176–264 V AC MES2448P Ethernet switch MES2448P, 48 ports of 10/100/1000BASE-T (PoE/PoE+), 4 ports of 1000BASE-X/ 10GBASE-R, L3 MES2420-48P Ethernet switch MES2420-48P, 48 ports of 10/100/1000BASE-T (PoE/PoE+), 4 ports of 1000BASE-X/ 10GBASE-R, L3 Related products PM380-220/56 Power module PM380-220/56, 176–264 V AC, 380 W, for MES2448P switches Related software ECCM-MES2408CP ECCM-MES2408CP option of Eltex ECCM control system to manage and monitor Eltex network elements: 1  MES2408CP network element ECCM-MES2408P ECCM-MES2408P option of Eltex ECCM control system to manage and monitor Eltex network elements: 1  MES2408P network element ECCM-MES2408P_DC ECCM-MES2408P_DC option of Eltex ECCM control system to manage and monitor Eltex network elements: 1  MES2408P DC network element  ECCM-MES2408PL ECCM-MES2408PL option of Eltex ECCM control system to manage and monitor Eltex network elements: 1  MES2408PL network element ECCM-MES2428P_AC ECCM-MES2428P_AC option of Eltex ECCM control system to manage and monitor Eltex network elements: 1  MES2428P network element AC ECCM-MES2428P_DC ECCM-MES2428P_DC option of Eltex ECCM control system to manage and monitor Eltex network elements: 1  MES2428P DC network element  ECCM-MES2424P ECCM-MES2424P option of Eltex ECCM control system to manage and monitor Eltex network elements: 1  MES2424P network element ECCM-MES2448P ECCM-MES2448P option of Eltex ECCM control system to manage and monitor Eltex network elements: 1  MES2448P network element ECCM-MES2420-48P ECCM-MES2420-48P option of Eltex ECCM control system to manage and monitor Eltex network elements: 1  MES24 P network element 20-48 Ordering information  Data Sheet MES24xx series Ethernet access switches with PoE support Integrated networking solutions www.eltex-co.com 6 Contact us +7 (383) 274 10 01 +7 (383) 274 48 48 eltex@eltex-co.ru www.eltex-co.com About ELTEX ELTEX Enterprise is a leading Russian developer and manufacturer of communications equipment with 30 years of history. Complete solutions and their seamless integratibility into Customer’s infrastructure are the priority growth areas of the company.',\n",
       "  'chunk_char_count': 3140,\n",
       "  'chunk_word_count': 444,\n",
       "  'chunk_token_count': 785.0}]"
      ]
     },
     "execution_count": 12,
     "metadata": {},
     "output_type": "execute_result"
    }
   ],
   "source": [
    "random.sample(pages_and_chunks, 1)"
   ]
  },
  {
   "cell_type": "code",
   "execution_count": 13,
   "metadata": {},
   "outputs": [
    {
     "data": {
      "text/html": [
       "<div>\n",
       "<style scoped>\n",
       "    .dataframe tbody tr th:only-of-type {\n",
       "        vertical-align: middle;\n",
       "    }\n",
       "\n",
       "    .dataframe tbody tr th {\n",
       "        vertical-align: top;\n",
       "    }\n",
       "\n",
       "    .dataframe thead th {\n",
       "        text-align: right;\n",
       "    }\n",
       "</style>\n",
       "<table border=\"1\" class=\"dataframe\">\n",
       "  <thead>\n",
       "    <tr style=\"text-align: right;\">\n",
       "      <th></th>\n",
       "      <th>page_number</th>\n",
       "      <th>chunk_char_count</th>\n",
       "      <th>chunk_word_count</th>\n",
       "      <th>chunk_token_count</th>\n",
       "    </tr>\n",
       "  </thead>\n",
       "  <tbody>\n",
       "    <tr>\n",
       "      <th>count</th>\n",
       "      <td>130.00</td>\n",
       "      <td>130.00</td>\n",
       "      <td>130.00</td>\n",
       "      <td>130.00</td>\n",
       "    </tr>\n",
       "    <tr>\n",
       "      <th>mean</th>\n",
       "      <td>63.30</td>\n",
       "      <td>2106.02</td>\n",
       "      <td>344.32</td>\n",
       "      <td>526.51</td>\n",
       "    </tr>\n",
       "    <tr>\n",
       "      <th>std</th>\n",
       "      <td>36.85</td>\n",
       "      <td>857.83</td>\n",
       "      <td>147.48</td>\n",
       "      <td>214.46</td>\n",
       "    </tr>\n",
       "    <tr>\n",
       "      <th>min</th>\n",
       "      <td>0.00</td>\n",
       "      <td>59.00</td>\n",
       "      <td>6.00</td>\n",
       "      <td>14.75</td>\n",
       "    </tr>\n",
       "    <tr>\n",
       "      <th>25%</th>\n",
       "      <td>32.25</td>\n",
       "      <td>1448.50</td>\n",
       "      <td>238.25</td>\n",
       "      <td>362.12</td>\n",
       "    </tr>\n",
       "    <tr>\n",
       "      <th>50%</th>\n",
       "      <td>62.50</td>\n",
       "      <td>2061.00</td>\n",
       "      <td>340.50</td>\n",
       "      <td>515.25</td>\n",
       "    </tr>\n",
       "    <tr>\n",
       "      <th>75%</th>\n",
       "      <td>94.75</td>\n",
       "      <td>2659.25</td>\n",
       "      <td>435.75</td>\n",
       "      <td>664.81</td>\n",
       "    </tr>\n",
       "    <tr>\n",
       "      <th>max</th>\n",
       "      <td>127.00</td>\n",
       "      <td>4847.00</td>\n",
       "      <td>794.00</td>\n",
       "      <td>1211.75</td>\n",
       "    </tr>\n",
       "  </tbody>\n",
       "</table>\n",
       "</div>"
      ],
      "text/plain": [
       "       page_number  chunk_char_count  chunk_word_count  chunk_token_count\n",
       "count       130.00            130.00            130.00             130.00\n",
       "mean         63.30           2106.02            344.32             526.51\n",
       "std          36.85            857.83            147.48             214.46\n",
       "min           0.00             59.00              6.00              14.75\n",
       "25%          32.25           1448.50            238.25             362.12\n",
       "50%          62.50           2061.00            340.50             515.25\n",
       "75%          94.75           2659.25            435.75             664.81\n",
       "max         127.00           4847.00            794.00            1211.75"
      ]
     },
     "execution_count": 13,
     "metadata": {},
     "output_type": "execute_result"
    }
   ],
   "source": [
    "df = pd.DataFrame(pages_and_chunks)\n",
    "df.describe().round(2)"
   ]
  },
  {
   "cell_type": "markdown",
   "metadata": {},
   "source": [
    "lets filter the dataFrame for rows under the 30 tokens. because they are not much useful and they didn't help us"
   ]
  },
  {
   "cell_type": "code",
   "execution_count": 14,
   "metadata": {},
   "outputs": [
    {
     "data": {
      "text/plain": [
       "[{'page_number': 0,\n",
       "  'sentence_chunk': '– Advanced L2 functions – Stacking support – Multicast support (IGMP Snooping, MVR) – Advanced security functions (L2-L4 ACL, IP Source Guard, Dynamic ARP Inspection, etc.)1 – Uninterruptible power supply from battery – Surge protection The switches provide end users connection to the networks of large enterprises, small and medium-sized businesses and service provider networks using Fast and Gigabit Ethernet interfaces. The access switches support physical stacking, VLANs and multicast groups, as well as advanced security features. Surge protection MES switches are equipped with efficient protection technology against voltage surges (up to 6 kV) caused by lightning discharges. Data sheet Ethernet Access Switches MES www.eltex-co.ru 1 MES1124M MES1124MB MES1124M  rev. B MES2124M MES2124MB MES2124P MES2124F Common  parameters 10/100BASE-T (RJ-45) 24 24 24 – – – – 10/100/1000BASE-T (RJ-45) – – – 24 24 – – 10/100/1000BASE-T (RJ-45) PoE/PoE+ – – – – – 24 – 100BASE-FX/1000BASE-X (SFP) – – – – – – 24 10/100/1000BASE-T/1000BASE-X/ 100BASE-FX Combo 4 4 4 4 4 4 4 Console port RS-232/RJ-45 Performance Bandwidth 12.8 Gbps 12.8 Gbps 12.8 Gbps 56 Gbps 56 Gbps 56 Gbps 56 Gbps Throughput for 64-byte packets 9 MPPS 41 MPPS MAC table 16K The number of active VLANs 4K ACL table 512 Jumbo frames size Maximum packets size is 10240 bytes Buffer memory 8 Mb RAM (DDR2) 128 MB 256 MB 128 MB ROM (SPI Flash) 16 MB L2 Multicast groups (IGMP Snooping) 1K Link Aggregation Groups (LAG) 16, up to 8 ports per LAG Quality of Service (QoS) 4 queues per port Max.number of units in stack 3 3 3 3 3 8 3 1 Uninterruptible power supply MES1124MB and MES2124MB switches have the ability to connect storage battery in order to provide uninterruptible power in case of 220V supply line failure. The switches are equipped with the power supply unit that allows charging of storage battery if the 220V supply line is available. The power system provides monitoring of power supply line and notifies on power sources switching. Technical features Integrated Networking Solutions 1 Only for MB models MES1124M MES2124MB MES2124P MES2124F',\n",
       "  'chunk_char_count': 2118,\n",
       "  'chunk_word_count': 347,\n",
       "  'chunk_token_count': 529.5},\n",
       " {'page_number': 1,\n",
       "  'sentence_chunk': 'www.eltex-co.ru 2 MES2124MB 220V PC 12V Battery capacity, Ah Battery life, h Battery charge time, h ≈12 ≈ 4 9 ≈17 ≈ 6 13 ≈20 ≈ 7 15 1 Storage battery specification  Access switch MES PC 100М/1G Nх1G Thin client  VoIP- router RG Server Aggregation switch Customer gateway TAU-72. IP Use case 1 Only for MB models Data sheet Ethernet Access Switches MES Integrated Networking Solutions Technical  features Технические характеристики резервного питания  1 MES1124M MES1124MB MES1124M  rev. B MES2124M MES2124MB MES2124P MES2124F Maximum power consumption 25W 25W 25W 30W 30W 400W 40W Maximum power consumption while battery charging – 45W – – 50W – –',\n",
       "  'chunk_char_count': 647,\n",
       "  'chunk_word_count': 110,\n",
       "  'chunk_token_count': 161.75}]"
      ]
     },
     "execution_count": 14,
     "metadata": {},
     "output_type": "execute_result"
    }
   ],
   "source": [
    "min_token_length = 30\n",
    "pages_and_chunks_over_min_token_length = df[df[\"chunk_token_count\"] > min_token_length].to_dict(orient=\"records\")\n",
    "pages_and_chunks_over_min_token_length[:2]"
   ]
  },
  {
   "cell_type": "code",
   "execution_count": 15,
   "metadata": {},
   "outputs": [
    {
     "data": {
      "text/html": [
       "<div>\n",
       "<style scoped>\n",
       "    .dataframe tbody tr th:only-of-type {\n",
       "        vertical-align: middle;\n",
       "    }\n",
       "\n",
       "    .dataframe tbody tr th {\n",
       "        vertical-align: top;\n",
       "    }\n",
       "\n",
       "    .dataframe thead th {\n",
       "        text-align: right;\n",
       "    }\n",
       "</style>\n",
       "<table border=\"1\" class=\"dataframe\">\n",
       "  <thead>\n",
       "    <tr style=\"text-align: right;\">\n",
       "      <th></th>\n",
       "      <th>page_number</th>\n",
       "      <th>chunk_char_count</th>\n",
       "      <th>chunk_word_count</th>\n",
       "      <th>chunk_token_count</th>\n",
       "    </tr>\n",
       "  </thead>\n",
       "  <tbody>\n",
       "    <tr>\n",
       "      <th>count</th>\n",
       "      <td>129.00</td>\n",
       "      <td>129.00</td>\n",
       "      <td>129.00</td>\n",
       "      <td>129.00</td>\n",
       "    </tr>\n",
       "    <tr>\n",
       "      <th>mean</th>\n",
       "      <td>63.34</td>\n",
       "      <td>2121.89</td>\n",
       "      <td>346.94</td>\n",
       "      <td>530.47</td>\n",
       "    </tr>\n",
       "    <tr>\n",
       "      <th>std</th>\n",
       "      <td>36.99</td>\n",
       "      <td>841.81</td>\n",
       "      <td>144.98</td>\n",
       "      <td>210.45</td>\n",
       "    </tr>\n",
       "    <tr>\n",
       "      <th>min</th>\n",
       "      <td>0.00</td>\n",
       "      <td>347.00</td>\n",
       "      <td>47.00</td>\n",
       "      <td>86.75</td>\n",
       "    </tr>\n",
       "    <tr>\n",
       "      <th>25%</th>\n",
       "      <td>32.00</td>\n",
       "      <td>1465.00</td>\n",
       "      <td>242.00</td>\n",
       "      <td>366.25</td>\n",
       "    </tr>\n",
       "    <tr>\n",
       "      <th>50%</th>\n",
       "      <td>63.00</td>\n",
       "      <td>2067.00</td>\n",
       "      <td>341.00</td>\n",
       "      <td>516.75</td>\n",
       "    </tr>\n",
       "    <tr>\n",
       "      <th>75%</th>\n",
       "      <td>95.00</td>\n",
       "      <td>2667.00</td>\n",
       "      <td>436.00</td>\n",
       "      <td>666.75</td>\n",
       "    </tr>\n",
       "    <tr>\n",
       "      <th>max</th>\n",
       "      <td>127.00</td>\n",
       "      <td>4847.00</td>\n",
       "      <td>794.00</td>\n",
       "      <td>1211.75</td>\n",
       "    </tr>\n",
       "  </tbody>\n",
       "</table>\n",
       "</div>"
      ],
      "text/plain": [
       "       page_number  chunk_char_count  chunk_word_count  chunk_token_count\n",
       "count       129.00            129.00            129.00             129.00\n",
       "mean         63.34           2121.89            346.94             530.47\n",
       "std          36.99            841.81            144.98             210.45\n",
       "min           0.00            347.00             47.00              86.75\n",
       "25%          32.00           1465.00            242.00             366.25\n",
       "50%          63.00           2067.00            341.00             516.75\n",
       "75%          95.00           2667.00            436.00             666.75\n",
       "max         127.00           4847.00            794.00            1211.75"
      ]
     },
     "execution_count": 15,
     "metadata": {},
     "output_type": "execute_result"
    }
   ],
   "source": [
    "df = pd.DataFrame(pages_and_chunks_over_min_token_length)\n",
    "df.describe().round(2)"
   ]
  },
  {
   "cell_type": "markdown",
   "metadata": {},
   "source": [
    "# Embedding our text chunks"
   ]
  },
  {
   "cell_type": "markdown",
   "metadata": {},
   "source": [
    "to see what is embeddings and why we are using: https://vickiboykis.com/what_are_embeddings/\n",
    "\n",
    "all-mpnet-base-v2 model : https://huggingface.co/sentence-transformers/all-mpnet-base-v2"
   ]
  },
  {
   "cell_type": "code",
   "execution_count": 16,
   "metadata": {},
   "outputs": [
    {
     "name": "stderr",
     "output_type": "stream",
     "text": [
      "/home/ai/TAC2-lbz/lib/python3.9/site-packages/transformers/tokenization_utils_base.py:1601: FutureWarning: `clean_up_tokenization_spaces` was not set. It will be set to `True` by default. This behavior will be depracted in transformers v4.45, and will be then set to `False` by default. For more details check this issue: https://github.com/huggingface/transformers/issues/31884\n",
      "  warnings.warn(\n"
     ]
    }
   ],
   "source": [
    "from sentence_transformers import SentenceTransformer\n",
    "\n",
    "# this would be our embedding model:\n",
    "\n",
    "embedding_model = SentenceTransformer(model_name_or_path=\"all-mpnet-base-v2\", device=\"cpu\")"
   ]
  },
  {
   "cell_type": "code",
   "execution_count": 17,
   "metadata": {},
   "outputs": [
    {
     "name": "stderr",
     "output_type": "stream",
     "text": [
      "100%|██████████| 129/129 [00:01<00:00, 84.21it/s] \n"
     ]
    }
   ],
   "source": [
    "embedding_model.to(\"cuda\") # uding gpu for faster embedding \n",
    "\n",
    "for item in tqdm(pages_and_chunks_over_min_token_length):\n",
    "    item[\"embedding\"] = embedding_model.encode(item[\"sentence_chunk\"])"
   ]
  },
  {
   "cell_type": "code",
   "execution_count": 18,
   "metadata": {},
   "outputs": [
    {
     "data": {
      "text/plain": [
       "[{'page_number': 89,\n",
       "  'sentence_chunk': '4 Use case Access switches PC N×1G N×1G/10G N×1G/10G OSPF, MSTP, ERPS ... GPON network To network core/higher-level equipment Thin client VoIP router RG Aggregation switches MES3300-48, MES3300-48F Gateway TAU-72. IP Physical parameters MES3300-48 MES3300-48F Power supply 100–240 V AC, 50–60 Hz 36–72 V DC Power supply options: џ 1 AC/DC power supply џ 2 hot-swappable AC/DC power supplies Input current 0.3–0.5 A for AC 0.5–1.0 A for DC 0.3–1.0 A for AC 1.0–2.2 A for DC Maximum power consumption 45 W 89 W Heat dissipation 45 W 89 W Dying Gasp support no Operating temperature from -10 to +45 °С Storage temperature from -50 to +70 °С Operating humidity no more than 80 % Cooling Front-to-Back, 4 fans Form factor 19”, 1U Dimensions (W × H × D) 440 × 44 × 330 mm 440 × 44 × 330 mm Weight 5.67 kg 5.68 kg Data sheet MES3300-48, MES3300-48F Ethernet Switches Integrated Networking Solutions www.eltex-co.com',\n",
       "  'chunk_char_count': 908,\n",
       "  'chunk_word_count': 156,\n",
       "  'chunk_token_count': 227.0,\n",
       "  'embedding': array([ 1.59568191e-02, -9.09278765e-02, -2.25960836e-03,  7.10108951e-02,\n",
       "          2.48316973e-02, -1.39738824e-02,  3.32314298e-02, -2.17884593e-02,\n",
       "          5.24947827e-04, -6.19951338e-02, -5.52751310e-02,  3.48153189e-02,\n",
       "          6.96765585e-03,  6.26292154e-02,  2.80386005e-02, -3.36521119e-02,\n",
       "          8.38725362e-03,  5.66508174e-02, -3.67266200e-02,  4.01157066e-02,\n",
       "         -5.29296836e-03, -1.07630864e-02,  1.15182595e-02, -3.77478041e-02,\n",
       "          2.75456402e-02,  2.64139473e-02,  1.58958056e-03, -2.79025380e-02,\n",
       "         -1.70752555e-02,  3.53466533e-02, -1.87075082e-02, -1.17178801e-02,\n",
       "         -1.74064264e-02,  6.66040778e-02,  1.83705640e-06, -9.23643727e-03,\n",
       "         -3.30473483e-02, -2.46603508e-02,  4.08998458e-03, -3.44515406e-02,\n",
       "         -3.09051760e-02,  3.64026539e-02, -2.88897958e-02, -2.71871239e-02,\n",
       "          1.50295198e-02, -3.00314128e-02,  2.18752045e-02,  2.46369280e-02,\n",
       "         -1.86170414e-02,  3.62397768e-02, -4.21003019e-03, -4.35997993e-02,\n",
       "          1.39625492e-02, -3.44113000e-02,  1.76390242e-02, -1.34416400e-02,\n",
       "         -1.40916314e-02, -3.33575457e-02,  3.69270816e-02, -1.42359510e-02,\n",
       "         -1.70164015e-02, -1.33132515e-02, -3.86756882e-02, -2.64719538e-02,\n",
       "         -3.96092162e-02, -2.12337263e-02,  2.39244979e-02, -2.43914593e-02,\n",
       "         -2.54713111e-02, -2.43473276e-02, -2.12207213e-02,  5.40805273e-02,\n",
       "          1.85469761e-02,  8.75862688e-03, -5.40565662e-02, -4.57764305e-02,\n",
       "         -5.97356586e-03, -3.11898272e-02, -1.62370335e-02, -4.58080135e-02,\n",
       "         -2.42351778e-02,  5.03319688e-02,  4.06777672e-03, -1.36162462e-02,\n",
       "          5.84272631e-02,  4.19390313e-02, -1.69534814e-02,  3.24697793e-02,\n",
       "          1.54164610e-02, -1.45899775e-02,  4.06665020e-02, -2.47777645e-02,\n",
       "          3.79534476e-02, -3.14572901e-02, -1.04025379e-02,  6.71762333e-04,\n",
       "          4.32385579e-02, -1.11214422e-01, -1.81237813e-02,  1.82865486e-02,\n",
       "          6.62316289e-03, -3.10700480e-02,  2.21639983e-02,  1.97607316e-02,\n",
       "          3.75151522e-02, -1.33101391e-02, -3.70693058e-02, -3.27351391e-02,\n",
       "         -5.84527217e-02,  2.59980801e-02,  9.89152789e-02, -3.61104868e-02,\n",
       "         -6.93508461e-02,  3.84859182e-02,  2.19746698e-02,  3.62701691e-03,\n",
       "         -6.15628287e-02,  2.60215681e-02, -2.19452921e-02,  4.91276057e-03,\n",
       "          8.27277675e-02, -1.43406251e-02,  9.19176787e-02, -1.07717477e-02,\n",
       "          1.03709474e-03,  1.68647547e-03,  1.46823572e-02, -6.42849877e-02,\n",
       "          4.06004712e-02, -9.53476280e-02,  9.58915101e-04,  1.41465003e-02,\n",
       "          4.31863107e-02,  1.62494890e-02, -1.05695976e-02,  1.09949663e-01,\n",
       "          1.22632990e-02,  3.00359260e-02,  2.96811311e-04,  2.64103431e-02,\n",
       "          1.58134922e-02, -4.60133478e-02, -2.29957383e-02,  4.81668906e-03,\n",
       "         -1.05100367e-02,  1.75785981e-02, -7.25857588e-03,  3.07901185e-02,\n",
       "         -2.81771943e-02,  5.44905774e-02,  1.75604317e-02, -2.27407925e-03,\n",
       "          3.72908153e-02,  2.54673767e-03,  6.64040521e-02, -1.74610559e-02,\n",
       "         -3.43654864e-02, -1.37639055e-02, -2.83215158e-02, -1.73258651e-02,\n",
       "          4.51714955e-02,  1.35423923e-02, -1.21827694e-02,  4.05801802e-05,\n",
       "         -1.97137687e-02,  8.83200765e-03,  5.28319702e-02,  2.49502715e-02,\n",
       "         -4.74562868e-02, -4.57895473e-02, -3.32271233e-02,  3.91074978e-02,\n",
       "         -4.14859392e-02, -2.28250530e-02, -3.63185257e-02, -7.00320974e-02,\n",
       "          3.62901725e-02, -2.30618892e-03, -3.13222371e-02,  1.73340756e-02,\n",
       "          2.37109256e-03, -1.21626876e-01,  4.04633507e-02,  3.51161063e-02,\n",
       "          7.22086756e-03, -1.60238426e-02,  3.65110971e-02, -3.79172601e-02,\n",
       "         -7.22996332e-03, -4.85776551e-02,  8.49761441e-03, -6.12428114e-02,\n",
       "         -8.02361779e-03,  5.60360067e-02,  2.67416816e-02,  5.22224531e-02,\n",
       "         -4.33176868e-02,  5.32495137e-03, -3.70392725e-02, -6.05499707e-02,\n",
       "          4.74376371e-03, -2.42887139e-02,  1.71187967e-02, -2.75612343e-02,\n",
       "         -2.28554998e-02,  1.07362326e-02, -6.57928213e-02, -2.84411516e-02,\n",
       "         -5.35078682e-02, -1.99717693e-02,  6.11829013e-02,  2.09369343e-02,\n",
       "          2.43094116e-02,  1.98546406e-02, -2.21378151e-02,  4.08972986e-02,\n",
       "          2.87720393e-02, -6.54047541e-03,  2.03115866e-02, -1.51179638e-02,\n",
       "          2.19101575e-03, -3.24002653e-02, -5.05469702e-02, -2.07696594e-02,\n",
       "          2.88406610e-02,  5.44860959e-02, -3.93388644e-02, -8.55031796e-03,\n",
       "          2.55394913e-02, -1.03699677e-02,  3.08459252e-02, -1.11754728e-03,\n",
       "         -5.35240695e-02,  1.37991155e-03,  2.82656830e-02,  5.40798753e-02,\n",
       "         -3.46632078e-02,  5.95007837e-02,  1.55009551e-03,  5.33461608e-02,\n",
       "         -2.51476690e-02,  3.74116306e-03, -1.72041857e-03, -1.47813056e-02,\n",
       "          1.10128094e-02, -4.48425338e-02,  1.41021237e-02, -4.10190783e-02,\n",
       "         -3.80834416e-02,  8.28674342e-03, -2.63641439e-02, -3.29693109e-02,\n",
       "         -1.35854064e-02, -1.15663093e-02,  8.97268765e-03,  1.32175563e-02,\n",
       "          9.65969916e-03,  9.05684829e-02, -3.92652564e-02, -1.99760739e-02,\n",
       "         -2.10878104e-02,  2.39880811e-02,  4.85459976e-02, -1.77849438e-02,\n",
       "          2.03324482e-02,  4.47960831e-02,  3.34573388e-02, -4.16721823e-03,\n",
       "          8.61502253e-03,  2.57891584e-02, -1.44966738e-02,  6.94185793e-02,\n",
       "          4.09894064e-03,  2.14349851e-03, -6.96134418e-02, -7.79917538e-02,\n",
       "          1.13661766e-01, -2.51998138e-02, -5.70074990e-02, -6.60068169e-03,\n",
       "          4.50084284e-02,  1.33200744e-02, -4.79483865e-02,  2.09269654e-02,\n",
       "          2.92651840e-02, -3.32781076e-02, -3.30706201e-02, -4.09727544e-02,\n",
       "          1.83674209e-02, -2.96660159e-02, -8.44141748e-03,  5.92627265e-02,\n",
       "         -7.08894106e-03, -5.55149801e-02, -3.11163776e-02,  2.87684686e-02,\n",
       "          3.23788896e-02,  2.00879667e-02,  3.72456685e-02,  2.39057448e-02,\n",
       "          8.27310979e-03, -2.61107367e-02, -1.52405603e-02, -1.42876375e-02,\n",
       "          2.33331174e-02,  8.26438249e-04,  2.36112233e-02,  3.92285287e-02,\n",
       "          1.86881498e-02,  1.93407107e-02,  1.04251849e-02,  1.47550907e-02,\n",
       "         -1.06920092e-03, -4.64094914e-02,  2.08801869e-02,  4.78636101e-02,\n",
       "          6.46463186e-02,  2.80311238e-02, -1.99909080e-02,  2.14316640e-02,\n",
       "          2.73459144e-02, -1.39616933e-02, -4.42812331e-02, -2.01341733e-02,\n",
       "         -4.26322259e-02, -4.84763831e-02, -1.14856218e-03, -7.55539024e-03,\n",
       "          1.88567396e-02,  8.81301053e-03,  6.67147115e-02, -4.44473401e-02,\n",
       "         -1.54008241e-02,  2.71060299e-02,  2.08856110e-02, -1.55792953e-02,\n",
       "         -4.37878929e-02, -1.88462157e-02,  1.68217588e-02, -5.74225672e-02,\n",
       "         -3.90133150e-02, -1.29279308e-02,  2.51662843e-02,  8.94277692e-02,\n",
       "         -1.40651548e-02, -7.11071817e-03,  2.21302230e-02,  7.30367517e-03,\n",
       "         -3.13311443e-02,  7.52778351e-02,  5.39717823e-02,  4.81745861e-02,\n",
       "         -5.33046313e-02,  3.19598019e-02,  2.49764323e-02,  2.48628650e-02,\n",
       "          8.14248901e-03, -5.92975644e-03, -1.69086438e-02,  7.33589754e-02,\n",
       "         -1.14929653e-03,  1.49054397e-02, -4.24221829e-02, -6.37800572e-03,\n",
       "         -2.81361472e-02,  1.70862600e-02, -7.16506876e-03, -3.78562920e-02,\n",
       "          1.71025610e-03, -4.57208641e-02,  6.95437333e-03,  7.97023717e-03,\n",
       "          2.48666089e-02,  6.52928837e-03, -1.96672566e-02, -5.62413372e-02,\n",
       "         -2.56542899e-02,  1.22192698e-02,  1.14466958e-02, -3.27128684e-03,\n",
       "          1.45694166e-02,  6.25017146e-03,  6.63242862e-02,  2.33144648e-02,\n",
       "          5.70491776e-02, -1.16968257e-02, -1.29885552e-02, -2.86180899e-02,\n",
       "         -6.86311200e-02, -1.70278493e-02,  5.24672307e-02,  1.27392290e-02,\n",
       "         -3.48078436e-03,  6.39634281e-02,  4.24746946e-02, -1.88813806e-02,\n",
       "          5.40090241e-02,  4.07099351e-03,  3.81099880e-02, -4.84947674e-02,\n",
       "          1.09014595e-02, -4.45460267e-02, -3.44505114e-03, -4.86668237e-02,\n",
       "         -1.08101135e-02, -1.75164081e-02, -1.76301207e-02,  4.46334295e-02,\n",
       "         -2.26710811e-02, -1.34580284e-02,  4.21343558e-02, -3.08772009e-02,\n",
       "         -8.89330637e-03,  2.14524311e-03, -4.55868505e-02, -1.30112208e-02,\n",
       "          1.82251465e-02, -6.91866362e-03,  2.53937133e-02,  4.03126255e-02,\n",
       "         -1.24723697e-03,  1.53721422e-02,  3.02800233e-03, -4.68577705e-02,\n",
       "          1.53552927e-02, -5.14052697e-02,  2.23921277e-02,  7.76925031e-03,\n",
       "          3.02467477e-02,  4.21173288e-04, -2.06288267e-02, -4.74795029e-02,\n",
       "         -6.76817447e-02, -1.33937383e-02, -8.16862099e-03, -1.86208636e-02,\n",
       "         -1.72625587e-03, -3.11586708e-02, -4.07069288e-02,  9.41169821e-03,\n",
       "         -5.37241716e-03,  4.14868928e-02,  2.48624589e-02,  3.76242138e-02,\n",
       "         -5.78438025e-03,  9.82951140e-04,  2.06343867e-02,  2.28251200e-02,\n",
       "         -4.27988060e-02, -2.78258752e-02, -1.96698029e-02, -7.68311173e-02,\n",
       "          2.10436359e-02,  1.19258678e-02,  2.71857847e-02,  1.17071765e-02,\n",
       "         -3.70192081e-02,  8.10032040e-02, -4.12578806e-02,  1.17158685e-02,\n",
       "          3.54696251e-02,  2.17029676e-02, -2.18122620e-02,  1.95979979e-02,\n",
       "          1.99841522e-02, -5.04551567e-02, -2.30038166e-02,  9.48611833e-03,\n",
       "         -1.35161998e-02, -2.89432518e-03, -6.25669817e-03, -3.05812526e-02,\n",
       "          3.58762369e-02,  2.67145727e-02,  3.69857177e-02, -3.68318148e-02,\n",
       "         -4.40952033e-02, -4.34054211e-02, -2.06663017e-03,  3.88799049e-02,\n",
       "          8.50338861e-03, -4.05977294e-02, -3.54397297e-02, -1.54021587e-02,\n",
       "          7.25500006e-03, -3.26761394e-03, -3.90826203e-02,  5.30742072e-02,\n",
       "         -5.62565692e-04, -4.03392836e-02, -2.86508240e-02, -5.20643368e-02,\n",
       "          1.28974598e-02, -2.06669196e-02,  8.61011073e-02, -4.87646721e-02,\n",
       "          2.91289743e-02,  3.05083003e-02, -1.17268916e-02,  2.38945559e-02,\n",
       "         -3.32660973e-02, -1.74093898e-02,  1.05079710e-02,  4.36155759e-02,\n",
       "         -4.26477902e-02, -4.12483290e-02, -6.59185052e-02, -3.16457972e-02,\n",
       "          5.58619900e-03, -6.54320270e-02, -3.69222276e-02,  5.01814783e-02,\n",
       "          3.32488604e-02, -4.26340029e-02,  6.15287619e-03, -6.47507235e-02,\n",
       "         -5.97875379e-02, -1.09221693e-02,  5.30363284e-02, -6.14650175e-03,\n",
       "          5.49902320e-02,  1.30716444e-03, -2.71006525e-02, -6.17537163e-02,\n",
       "          6.12423085e-02,  6.16699597e-03,  5.54234236e-02, -2.56590135e-02,\n",
       "          8.66180584e-02, -3.17355730e-02,  6.00345694e-02, -8.31028074e-02,\n",
       "          2.93996409e-02, -6.16836408e-03, -2.61188280e-02,  1.17183924e-01,\n",
       "         -4.65648510e-02,  4.09106389e-02, -1.63927786e-02, -5.70416860e-02,\n",
       "          9.31529887e-03,  1.03200991e-02,  6.10194309e-03, -4.20279913e-02,\n",
       "          3.92104760e-02, -9.30927228e-03,  2.50970479e-02,  1.26985041e-02,\n",
       "          3.15020196e-02,  2.34880019e-02,  2.52447445e-02,  3.73736769e-02,\n",
       "         -2.95766871e-02,  5.92002720e-02,  5.23194820e-02, -5.00917853e-33,\n",
       "          3.48493084e-02, -3.64393219e-02, -7.92399142e-03,  2.27431264e-02,\n",
       "         -1.78772528e-02,  1.15796523e-02, -6.17356459e-03, -3.49445385e-03,\n",
       "         -8.09383020e-02, -2.70741768e-02,  1.03671318e-02, -5.34361228e-02,\n",
       "          3.88248591e-03,  2.55664275e-03,  3.58330621e-03,  7.42650451e-03,\n",
       "          1.82416234e-02,  4.68440093e-02,  4.11196388e-02, -3.62450927e-02,\n",
       "         -1.91673301e-02, -8.14845692e-03,  4.22953516e-02, -5.39592132e-02,\n",
       "         -3.78689133e-02, -1.70739871e-02,  2.43584216e-02,  1.12077203e-02,\n",
       "         -6.60902075e-03, -2.46120282e-02, -1.31560657e-02,  3.29425372e-02,\n",
       "         -2.58896518e-02,  4.17211726e-02,  5.11936564e-03,  8.12130868e-02,\n",
       "         -4.29764949e-02,  2.22177021e-02, -3.25033031e-02,  5.60901836e-02,\n",
       "         -1.19840894e-02, -2.93517839e-02,  3.38499919e-02, -4.57874537e-02,\n",
       "         -9.36439727e-03, -1.91545056e-03, -3.21421996e-02,  1.62133779e-02,\n",
       "         -1.34127028e-02,  4.24710885e-02,  5.70851862e-02,  5.74476421e-02,\n",
       "          3.53010297e-02,  8.29848424e-02,  1.88135616e-02, -8.85025933e-02,\n",
       "         -3.27875391e-02,  2.15620431e-03, -2.51366869e-02, -2.89808307e-02,\n",
       "         -4.21318039e-02,  1.51034314e-02,  1.58352742e-03,  7.57414615e-03,\n",
       "          1.44775342e-02, -3.62428348e-03, -1.33157577e-02,  2.65939441e-02,\n",
       "          9.72851063e-04, -1.02404924e-03,  2.60740723e-02,  4.33391444e-02,\n",
       "         -2.30506826e-02, -5.33984415e-02, -3.02161407e-02, -4.28640284e-02,\n",
       "         -2.14675944e-02, -4.67115231e-02,  2.00833590e-03, -1.56467892e-02,\n",
       "          5.16171120e-02,  3.29742543e-02,  4.88895625e-02, -3.99108790e-03,\n",
       "         -1.58767197e-02, -2.90963817e-02,  7.19258736e-04, -5.63834198e-02,\n",
       "          1.47146145e-02,  1.88185330e-02, -1.53896911e-02,  2.59301011e-02,\n",
       "         -6.97916672e-02,  5.81727885e-02,  5.18235601e-02, -4.05210117e-03,\n",
       "          7.95615762e-02,  2.79805753e-02,  7.10801408e-03, -3.10118124e-02,\n",
       "          1.80877233e-03,  2.12132023e-03, -2.33338363e-02, -1.89462924e-04,\n",
       "         -3.51120159e-02,  3.39444987e-02, -1.99600421e-02,  4.20793071e-02,\n",
       "         -3.04725524e-02,  1.52869597e-02,  1.02673413e-03, -4.82745208e-02,\n",
       "         -1.77827179e-02,  2.26915963e-02,  6.51322911e-03, -1.27288029e-02,\n",
       "          2.56032590e-02, -9.41747054e-03,  1.85651109e-02, -2.26312764e-02,\n",
       "          9.73107666e-03,  4.03961138e-04, -5.51234791e-03,  3.51461098e-02,\n",
       "         -6.41704574e-02,  4.36528921e-02, -2.14552134e-02,  2.08939184e-02,\n",
       "          5.95033318e-02,  1.04019269e-02,  4.10666242e-02,  6.82254136e-03,\n",
       "          2.70501545e-07,  4.25631218e-02,  2.16299761e-03, -1.98057685e-02,\n",
       "          4.29118192e-03, -1.48178567e-03, -5.51749282e-02,  3.44434269e-02,\n",
       "         -9.41804498e-02,  7.83511549e-02,  5.19178472e-02, -2.48381007e-03,\n",
       "         -2.72359885e-02, -9.33597144e-03,  6.07554466e-02, -7.60058686e-03,\n",
       "         -4.46577109e-02, -5.32652298e-03,  1.59215219e-02,  2.28782762e-02,\n",
       "          1.92091744e-02,  6.76499456e-02,  1.89281050e-02,  9.13398936e-02,\n",
       "          9.91948321e-02,  2.86500249e-02, -3.97767238e-02, -2.06101146e-02,\n",
       "         -6.45029768e-02,  2.11880356e-02, -2.28279140e-02,  5.64613864e-02,\n",
       "          1.71414036e-02,  3.24648283e-02,  3.00995335e-02,  2.26410739e-02,\n",
       "         -1.57347172e-02,  2.29719877e-02,  1.73087441e-03, -3.92264575e-02,\n",
       "          1.70691814e-02,  3.98437046e-02, -9.21327323e-02, -2.66782958e-02,\n",
       "         -6.05931357e-02,  1.01731401e-02,  2.36491896e-02, -2.40953751e-02,\n",
       "         -3.62418871e-03, -1.70074273e-02, -2.13708356e-02, -1.48056597e-02,\n",
       "          3.57047915e-02,  3.94828506e-02, -5.08463755e-03,  2.84146592e-02,\n",
       "         -4.30512242e-02, -9.19732451e-03,  4.37619090e-02,  4.86646546e-03,\n",
       "          3.68482359e-02,  9.02618340e-04, -4.60090600e-02, -2.94744410e-02,\n",
       "         -1.43289911e-02,  1.41432257e-02,  6.37825802e-02, -7.65913576e-02,\n",
       "          2.90292830e-34, -2.98866518e-02, -1.22891115e-02,  1.75380297e-02,\n",
       "          2.99479347e-02, -1.35885295e-03,  8.92566796e-03,  5.30818962e-02,\n",
       "         -9.89429131e-02, -3.75789963e-02, -2.66807545e-02,  2.38205586e-02],\n",
       "        dtype=float32)}]"
      ]
     },
     "execution_count": 18,
     "metadata": {},
     "output_type": "execute_result"
    }
   ],
   "source": [
    "random.sample(pages_and_chunks_over_min_token_length, k=1) # see what we get"
   ]
  },
  {
   "cell_type": "code",
   "execution_count": 19,
   "metadata": {},
   "outputs": [
    {
     "data": {
      "text/plain": [
       "(768,)"
      ]
     },
     "execution_count": 19,
     "metadata": {},
     "output_type": "execute_result"
    }
   ],
   "source": [
    "import numpy as np\n",
    "np.shape(pages_and_chunks_over_min_token_length[100][\"embedding\"])"
   ]
  },
  {
   "cell_type": "code",
   "execution_count": 20,
   "metadata": {},
   "outputs": [],
   "source": [
    "# saving embeddings to a file\n",
    "text_chunks_and_embeddings_df = pd.DataFrame(pages_and_chunks_over_min_token_length)\n",
    "embedding_df_path= \"/home/ai/TAC2-lbz/text_chunks_and_embeddings_df.csv\"\n",
    "text_chunks_and_embeddings_df.to_csv(embedding_df_path, index=False)"
   ]
  },
  {
   "cell_type": "code",
   "execution_count": 21,
   "metadata": {},
   "outputs": [
    {
     "data": {
      "text/html": [
       "<div>\n",
       "<style scoped>\n",
       "    .dataframe tbody tr th:only-of-type {\n",
       "        vertical-align: middle;\n",
       "    }\n",
       "\n",
       "    .dataframe tbody tr th {\n",
       "        vertical-align: top;\n",
       "    }\n",
       "\n",
       "    .dataframe thead th {\n",
       "        text-align: right;\n",
       "    }\n",
       "</style>\n",
       "<table border=\"1\" class=\"dataframe\">\n",
       "  <thead>\n",
       "    <tr style=\"text-align: right;\">\n",
       "      <th></th>\n",
       "      <th>page_number</th>\n",
       "      <th>sentence_chunk</th>\n",
       "      <th>chunk_char_count</th>\n",
       "      <th>chunk_word_count</th>\n",
       "      <th>chunk_token_count</th>\n",
       "      <th>embedding</th>\n",
       "    </tr>\n",
       "  </thead>\n",
       "  <tbody>\n",
       "    <tr>\n",
       "      <th>0</th>\n",
       "      <td>0</td>\n",
       "      <td>– Advanced L2 functions – Stacking support – M...</td>\n",
       "      <td>2118</td>\n",
       "      <td>347</td>\n",
       "      <td>529.50</td>\n",
       "      <td>[-4.12980244e-02 -4.51941825e-02 -8.23202636e-...</td>\n",
       "    </tr>\n",
       "    <tr>\n",
       "      <th>1</th>\n",
       "      <td>1</td>\n",
       "      <td>www.eltex-co.ru 2 MES2124MB 220V PC 12V Batter...</td>\n",
       "      <td>647</td>\n",
       "      <td>110</td>\n",
       "      <td>161.75</td>\n",
       "      <td>[ 5.26167592e-03 -8.32894593e-02  2.22160108e-...</td>\n",
       "    </tr>\n",
       "    <tr>\n",
       "      <th>2</th>\n",
       "      <td>2</td>\n",
       "      <td>Interfaces functions – Head-of-line blocking (...</td>\n",
       "      <td>2689</td>\n",
       "      <td>442</td>\n",
       "      <td>672.25</td>\n",
       "      <td>[ 1.27964774e-02 -6.11136481e-02  1.77732715e-...</td>\n",
       "    </tr>\n",
       "    <tr>\n",
       "      <th>3</th>\n",
       "      <td>3</td>\n",
       "      <td>ОАМ – IEEE 802.3ah Ethernet OAM – Dying Gasp –...</td>\n",
       "      <td>2983</td>\n",
       "      <td>527</td>\n",
       "      <td>745.75</td>\n",
       "      <td>[-1.39940754e-02 -2.82517243e-02  1.43435132e-...</td>\n",
       "    </tr>\n",
       "    <tr>\n",
       "      <th>4</th>\n",
       "      <td>4</td>\n",
       "      <td>Name Description Image MES1124M AC Ethernet sw...</td>\n",
       "      <td>2353</td>\n",
       "      <td>331</td>\n",
       "      <td>588.25</td>\n",
       "      <td>[-1.04786130e-02 -1.19528892e-02 -3.23442444e-...</td>\n",
       "    </tr>\n",
       "  </tbody>\n",
       "</table>\n",
       "</div>"
      ],
      "text/plain": [
       "   page_number                                     sentence_chunk  \\\n",
       "0            0  – Advanced L2 functions – Stacking support – M...   \n",
       "1            1  www.eltex-co.ru 2 MES2124MB 220V PC 12V Batter...   \n",
       "2            2  Interfaces functions – Head-of-line blocking (...   \n",
       "3            3  ОАМ – IEEE 802.3ah Ethernet OAM – Dying Gasp –...   \n",
       "4            4  Name Description Image MES1124M AC Ethernet sw...   \n",
       "\n",
       "   chunk_char_count  chunk_word_count  chunk_token_count  \\\n",
       "0              2118               347             529.50   \n",
       "1               647               110             161.75   \n",
       "2              2689               442             672.25   \n",
       "3              2983               527             745.75   \n",
       "4              2353               331             588.25   \n",
       "\n",
       "                                           embedding  \n",
       "0  [-4.12980244e-02 -4.51941825e-02 -8.23202636e-...  \n",
       "1  [ 5.26167592e-03 -8.32894593e-02  2.22160108e-...  \n",
       "2  [ 1.27964774e-02 -6.11136481e-02  1.77732715e-...  \n",
       "3  [-1.39940754e-02 -2.82517243e-02  1.43435132e-...  \n",
       "4  [-1.04786130e-02 -1.19528892e-02 -3.23442444e-...  "
      ]
     },
     "execution_count": 21,
     "metadata": {},
     "output_type": "execute_result"
    }
   ],
   "source": [
    "# import reading csv\n",
    "text_chunks_and_embeddings_df_load = pd.read_csv(embedding_df_path)\n",
    "text_chunks_and_embeddings_df_load.head()"
   ]
  },
  {
   "cell_type": "code",
   "execution_count": 22,
   "metadata": {},
   "outputs": [],
   "source": [
    "import textwrap\n",
    "\n",
    "def print_wrapped(text, wrap_length=80):\n",
    "    wrapped_text = textwrap.fill(text, wrap_length)\n",
    "    print(wrapped_text)"
   ]
  },
  {
   "cell_type": "code",
   "execution_count": 23,
   "metadata": {},
   "outputs": [],
   "source": [
    "import torch\n",
    "from sentence_transformers import util\n",
    "\n",
    "def retrieve_relevant_resources(query: str,\n",
    "                                embeddings: torch.tensor,\n",
    "                                model: SentenceTransformer=embedding_model,\n",
    "                                n_resources_to_return: int=5,\n",
    "                                print_time: bool=True):\n",
    "    \"\"\"\n",
    "    Embeds a query with model and returns top k scores and indices from embeddings.\n",
    "    \"\"\"\n",
    "\n",
    "    # Embed the query\n",
    "    query_embedding = model.encode(query, \n",
    "                                convert_to_tensor=True) \n",
    "\n",
    "    # Get dot product scores on embeddings\n",
    "    \n",
    "    dot_scores = util.dot_score(query_embedding, embeddings)[0]\n",
    "    \n",
    "\n",
    "    if print_time:\n",
    "        print(f\"[INFO] Time taken to get scores on {len(embeddings)} embeddings.\")\n",
    "\n",
    "    scores, indices = torch.topk(input=dot_scores, \n",
    "                                k=n_resources_to_return)\n",
    "\n",
    "    return scores, indices\n",
    "\n",
    "def print_top_results_and_scores(query: str,\n",
    "                                embeddings: torch.tensor,\n",
    "                                pages_and_chunks: list[dict]=pages_and_chunks,\n",
    "                                n_resources_to_return: int=5):\n",
    "    \"\"\"\n",
    "    Takes a query, retrieves most relevant resources and prints them out in descending order.\n",
    "\n",
    "    Note: Requires pages_and_chunks to be formatted in a specific way (see above for reference).\n",
    "    \"\"\"\n",
    "    \n",
    "    scores, indices = retrieve_relevant_resources(query=query,\n",
    "                                                embeddings=embeddings,\n",
    "                                                n_resources_to_return=n_resources_to_return)\n",
    "    \n",
    "    print(f\"Query: {query}\\n\")\n",
    "    print(\"Results:\")\n",
    "    # Loop through zipped together scores and indicies\n",
    "    for score, index in zip(scores, indices):\n",
    "        print(f\"Score: {score:.4f}\")\n",
    "        # Print relevant sentence chunk (since the scores are in descending order, the most relevant chunk will be first)\n",
    "        print_wrapped(pages_and_chunks[index][\"sentence_chunk\"])\n",
    "        # Print the page number too so we can reference the textbook further and check the results\n",
    "        print(f\"Page number: {pages_and_chunks[index]['page_number']}\")\n",
    "        print(\"\\n\")"
   ]
  },
  {
   "cell_type": "markdown",
   "metadata": {},
   "source": [
    "# RAG   Retrieval-Augmented Generation"
   ]
  },
  {
   "cell_type": "code",
   "execution_count": 24,
   "metadata": {},
   "outputs": [
    {
     "data": {
      "text/html": [
       "<div>\n",
       "<style scoped>\n",
       "    .dataframe tbody tr th:only-of-type {\n",
       "        vertical-align: middle;\n",
       "    }\n",
       "\n",
       "    .dataframe tbody tr th {\n",
       "        vertical-align: top;\n",
       "    }\n",
       "\n",
       "    .dataframe thead th {\n",
       "        text-align: right;\n",
       "    }\n",
       "</style>\n",
       "<table border=\"1\" class=\"dataframe\">\n",
       "  <thead>\n",
       "    <tr style=\"text-align: right;\">\n",
       "      <th></th>\n",
       "      <th>page_number</th>\n",
       "      <th>sentence_chunk</th>\n",
       "      <th>chunk_char_count</th>\n",
       "      <th>chunk_word_count</th>\n",
       "      <th>chunk_token_count</th>\n",
       "      <th>embedding</th>\n",
       "    </tr>\n",
       "  </thead>\n",
       "  <tbody>\n",
       "    <tr>\n",
       "      <th>0</th>\n",
       "      <td>0</td>\n",
       "      <td>– Advanced L2 functions – Stacking support – M...</td>\n",
       "      <td>2118</td>\n",
       "      <td>347</td>\n",
       "      <td>529.50</td>\n",
       "      <td>[-0.0412980244, -0.0451941825, -0.00823202636,...</td>\n",
       "    </tr>\n",
       "    <tr>\n",
       "      <th>1</th>\n",
       "      <td>1</td>\n",
       "      <td>www.eltex-co.ru 2 MES2124MB 220V PC 12V Batter...</td>\n",
       "      <td>647</td>\n",
       "      <td>110</td>\n",
       "      <td>161.75</td>\n",
       "      <td>[0.00526167592, -0.0832894593, 0.0222160108, 0...</td>\n",
       "    </tr>\n",
       "    <tr>\n",
       "      <th>2</th>\n",
       "      <td>2</td>\n",
       "      <td>Interfaces functions – Head-of-line blocking (...</td>\n",
       "      <td>2689</td>\n",
       "      <td>442</td>\n",
       "      <td>672.25</td>\n",
       "      <td>[0.0127964774, -0.0611136481, 0.00177732715, -...</td>\n",
       "    </tr>\n",
       "    <tr>\n",
       "      <th>3</th>\n",
       "      <td>3</td>\n",
       "      <td>ОАМ – IEEE 802.3ah Ethernet OAM – Dying Gasp –...</td>\n",
       "      <td>2983</td>\n",
       "      <td>527</td>\n",
       "      <td>745.75</td>\n",
       "      <td>[-0.0139940754, -0.0282517243, 0.00143435132, ...</td>\n",
       "    </tr>\n",
       "    <tr>\n",
       "      <th>4</th>\n",
       "      <td>4</td>\n",
       "      <td>Name Description Image MES1124M AC Ethernet sw...</td>\n",
       "      <td>2353</td>\n",
       "      <td>331</td>\n",
       "      <td>588.25</td>\n",
       "      <td>[-0.010478613, -0.0119528892, -0.0323442444, 0...</td>\n",
       "    </tr>\n",
       "    <tr>\n",
       "      <th>...</th>\n",
       "      <td>...</td>\n",
       "      <td>...</td>\n",
       "      <td>...</td>\n",
       "      <td>...</td>\n",
       "      <td>...</td>\n",
       "      <td>...</td>\n",
       "    </tr>\n",
       "    <tr>\n",
       "      <th>124</th>\n",
       "      <td>123</td>\n",
       "      <td>Data sheet 2 Interface features – Head-of-line...</td>\n",
       "      <td>2067</td>\n",
       "      <td>344</td>\n",
       "      <td>516.75</td>\n",
       "      <td>[0.0256994795, -0.0870650187, 0.000192645501, ...</td>\n",
       "    </tr>\n",
       "    <tr>\n",
       "      <th>125</th>\n",
       "      <td>124</td>\n",
       "      <td>Data sheet 3 Security functions – DHCP snoopin...</td>\n",
       "      <td>3458</td>\n",
       "      <td>539</td>\n",
       "      <td>864.50</td>\n",
       "      <td>[0.00733969174, -0.0421830937, 0.00279009691, ...</td>\n",
       "    </tr>\n",
       "    <tr>\n",
       "      <th>126</th>\n",
       "      <td>125</td>\n",
       "      <td>Data sheet 4 MIB/IETF – IEEE 802.3 10BASE-T – ...</td>\n",
       "      <td>4847</td>\n",
       "      <td>794</td>\n",
       "      <td>1211.75</td>\n",
       "      <td>[-0.000385717838, -0.0952754468, 0.0141440779,...</td>\n",
       "    </tr>\n",
       "    <tr>\n",
       "      <th>127</th>\n",
       "      <td>126</td>\n",
       "      <td>– RFC 854 Telnet – RFC 855 Telnet Option Speci...</td>\n",
       "      <td>3394</td>\n",
       "      <td>559</td>\n",
       "      <td>848.50</td>\n",
       "      <td>[-0.00582209928, -0.0445040613, 0.0292956363, ...</td>\n",
       "    </tr>\n",
       "    <tr>\n",
       "      <th>128</th>\n",
       "      <td>127</td>\n",
       "      <td>Data sheet Name Description MES7048 MES7048 Et...</td>\n",
       "      <td>1227</td>\n",
       "      <td>178</td>\n",
       "      <td>306.75</td>\n",
       "      <td>[0.0159933288, -0.0512028821, 0.0035150093, 0....</td>\n",
       "    </tr>\n",
       "  </tbody>\n",
       "</table>\n",
       "<p>129 rows × 6 columns</p>\n",
       "</div>"
      ],
      "text/plain": [
       "     page_number                                     sentence_chunk  \\\n",
       "0              0  – Advanced L2 functions – Stacking support – M...   \n",
       "1              1  www.eltex-co.ru 2 MES2124MB 220V PC 12V Batter...   \n",
       "2              2  Interfaces functions – Head-of-line blocking (...   \n",
       "3              3  ОАМ – IEEE 802.3ah Ethernet OAM – Dying Gasp –...   \n",
       "4              4  Name Description Image MES1124M AC Ethernet sw...   \n",
       "..           ...                                                ...   \n",
       "124          123  Data sheet 2 Interface features – Head-of-line...   \n",
       "125          124  Data sheet 3 Security functions – DHCP snoopin...   \n",
       "126          125  Data sheet 4 MIB/IETF – IEEE 802.3 10BASE-T – ...   \n",
       "127          126  – RFC 854 Telnet – RFC 855 Telnet Option Speci...   \n",
       "128          127  Data sheet Name Description MES7048 MES7048 Et...   \n",
       "\n",
       "     chunk_char_count  chunk_word_count  chunk_token_count  \\\n",
       "0                2118               347             529.50   \n",
       "1                 647               110             161.75   \n",
       "2                2689               442             672.25   \n",
       "3                2983               527             745.75   \n",
       "4                2353               331             588.25   \n",
       "..                ...               ...                ...   \n",
       "124              2067               344             516.75   \n",
       "125              3458               539             864.50   \n",
       "126              4847               794            1211.75   \n",
       "127              3394               559             848.50   \n",
       "128              1227               178             306.75   \n",
       "\n",
       "                                             embedding  \n",
       "0    [-0.0412980244, -0.0451941825, -0.00823202636,...  \n",
       "1    [0.00526167592, -0.0832894593, 0.0222160108, 0...  \n",
       "2    [0.0127964774, -0.0611136481, 0.00177732715, -...  \n",
       "3    [-0.0139940754, -0.0282517243, 0.00143435132, ...  \n",
       "4    [-0.010478613, -0.0119528892, -0.0323442444, 0...  \n",
       "..                                                 ...  \n",
       "124  [0.0256994795, -0.0870650187, 0.000192645501, ...  \n",
       "125  [0.00733969174, -0.0421830937, 0.00279009691, ...  \n",
       "126  [-0.000385717838, -0.0952754468, 0.0141440779,...  \n",
       "127  [-0.00582209928, -0.0445040613, 0.0292956363, ...  \n",
       "128  [0.0159933288, -0.0512028821, 0.0035150093, 0....  \n",
       "\n",
       "[129 rows x 6 columns]"
      ]
     },
     "execution_count": 24,
     "metadata": {},
     "output_type": "execute_result"
    }
   ],
   "source": [
    "import numpy as np\n",
    "import pandas as pd\n",
    "import torch\n",
    "\n",
    "device = \"cuda\" if torch.cuda.is_available else \"cpu\" # if gpu is available we choose it and if not we chose cpu as our device\n",
    "\n",
    "# importing text and embeddings\n",
    "text_chunks_and_embeddings_df = pd.read_csv(\"/home/ai/TAC2-lbz/text_chunks_and_embeddings_df.csv\")\n",
    "\n",
    "# now converting embedding column to a np.array\n",
    "text_chunks_and_embeddings_df[\"embedding\"] = text_chunks_and_embeddings_df[\"embedding\"].apply(lambda x: np.fromstring(x.strip(\"[]\"), sep=\" \"))\n",
    "\n",
    "# converting embedding into a torch.tensor\n",
    "embeddings = torch.tensor(np.stack(text_chunks_and_embeddings_df[\"embedding\"].tolist(), axis=0), dtype=torch.float32).to(device=device)\n",
    "\n",
    "# converting text and embeddings to the list of dictionaries\n",
    "pages_and_chunks = text_chunks_and_embeddings_df.to_dict(orient=\"records\")\n",
    "\n",
    "text_chunks_and_embeddings_df # to see what i just created"
   ]
  },
  {
   "cell_type": "code",
   "execution_count": 25,
   "metadata": {},
   "outputs": [
    {
     "data": {
      "text/plain": [
       "torch.Size([129, 768])"
      ]
     },
     "execution_count": 25,
     "metadata": {},
     "output_type": "execute_result"
    }
   ],
   "source": [
    "embeddings.shape # just seeing what i have created :)"
   ]
  },
  {
   "cell_type": "code",
   "execution_count": 26,
   "metadata": {},
   "outputs": [
    {
     "name": "stderr",
     "output_type": "stream",
     "text": [
      "/home/ai/TAC2-lbz/lib/python3.9/site-packages/transformers/tokenization_utils_base.py:1601: FutureWarning: `clean_up_tokenization_spaces` was not set. It will be set to `True` by default. This behavior will be depracted in transformers v4.45, and will be then set to `False` by default. For more details check this issue: https://github.com/huggingface/transformers/issues/31884\n",
      "  warnings.warn(\n"
     ]
    }
   ],
   "source": [
    "# create model\n",
    "\n",
    "from sentence_transformers import util, SentenceTransformer\n",
    "\n",
    "embedding_model = SentenceTransformer(model_name_or_path=\"all-mpnet-base-v2\", device=device) # embedding our query with same model as we embedded our knowledge-base\n"
   ]
  },
  {
   "cell_type": "code",
   "execution_count": 27,
   "metadata": {},
   "outputs": [
    {
     "name": "stdout",
     "output_type": "stream",
     "text": [
      "query: What is the firmware version synchronized with Version 4.0 of the MES5448 and MES7048 operation manual?\n"
     ]
    },
    {
     "data": {
      "text/plain": [
       "torch.return_types.topk(\n",
       "values=tensor([0.4207, 0.4173, 0.4084, 0.4052, 0.3941], device='cuda:0'),\n",
       "indices=tensor([  5,  16,  21, 105, 103], device='cuda:0'))"
      ]
     },
     "execution_count": 27,
     "metadata": {},
     "output_type": "execute_result"
    }
   ],
   "source": [
    "# Defining the query\n",
    "query = \"What is the firmware version synchronized with Version 4.0 of the MES5448 and MES7048 operation manual?\"\n",
    "print(f\"query: {query}\")\n",
    "\n",
    "# embed the query\n",
    "query_embedding = embedding_model.encode(query, convert_to_tensor=True).to(\"cuda\")\n",
    "\n",
    "# similarity scores\n",
    "dot_scores = util.dot_score(a=query_embedding, b=embeddings)[0]\n",
    "\n",
    "# Getting top-k results\n",
    "top_results_dot_product = torch.topk(dot_scores, k=5)\n",
    "top_results_dot_product"
   ]
  },
  {
   "cell_type": "markdown",
   "metadata": {},
   "source": [
    "# LLM "
   ]
  },
  {
   "cell_type": "code",
   "execution_count": 29,
   "metadata": {},
   "outputs": [
    {
     "name": "stdout",
     "output_type": "stream",
     "text": [
      "Sun Aug 18 10:00:50 2024       \n",
      "+---------------------------------------------------------------------------------------+\n",
      "| NVIDIA-SMI 535.183.01             Driver Version: 535.183.01   CUDA Version: 12.2     |\n",
      "|-----------------------------------------+----------------------+----------------------+\n",
      "| GPU  Name                 Persistence-M | Bus-Id        Disp.A | Volatile Uncorr. ECC |\n",
      "| Fan  Temp   Perf          Pwr:Usage/Cap |         Memory-Usage | GPU-Util  Compute M. |\n",
      "|                                         |                      |               MIG M. |\n",
      "|=========================================+======================+======================|\n",
      "|   0  NVIDIA GeForce RTX 3090        Off | 00000000:01:00.0 Off |                  N/A |\n",
      "|  0%   32C    P8              23W / 370W |   7369MiB / 24576MiB |      0%      Default |\n",
      "|                                         |                      |                  N/A |\n",
      "+-----------------------------------------+----------------------+----------------------+\n",
      "                                                                                         \n",
      "+---------------------------------------------------------------------------------------+\n",
      "| Processes:                                                                            |\n",
      "|  GPU   GI   CI        PID   Type   Process name                            GPU Memory |\n",
      "|        ID   ID                                                             Usage      |\n",
      "|=======================================================================================|\n",
      "|    0   N/A  N/A      3951      C   /usr/bin/python3                            428MiB |\n",
      "|    0   N/A  N/A   3575610      C   /bin/python3                               5694MiB |\n",
      "|    0   N/A  N/A   3576253      C   /home/ai/TAC2-lbz/bin/python               1236MiB |\n",
      "+---------------------------------------------------------------------------------------+\n"
     ]
    },
    {
     "name": "stderr",
     "output_type": "stream",
     "text": [
      "huggingface/tokenizers: The current process just got forked, after parallelism has already been used. Disabling parallelism to avoid deadlocks...\n",
      "To disable this warning, you can either:\n",
      "\t- Avoid using `tokenizers` before the fork if possible\n",
      "\t- Explicitly set the environment variable TOKENIZERS_PARALLELISM=(true | false)\n"
     ]
    }
   ],
   "source": [
    "!nvidia-smi # to check how much gpu memory is available for choosing the model"
   ]
  },
  {
   "cell_type": "markdown",
   "metadata": {},
   "source": [
    "LLM model that i chose : Gemma-7b-it https://huggingface.co/google/gemma-7b-it"
   ]
  },
  {
   "cell_type": "code",
   "execution_count": 30,
   "metadata": {},
   "outputs": [
    {
     "name": "stdout",
     "output_type": "stream",
     "text": [
      "[INFO] Using attention implementation: sdpa\n"
     ]
    },
    {
     "name": "stderr",
     "output_type": "stream",
     "text": [
      "`config.hidden_act` is ignored, you should use `config.hidden_activation` instead.\n",
      "Gemma's activation function will be set to `gelu_pytorch_tanh`. Please, use\n",
      "`config.hidden_activation` if you want to override this behaviour.\n",
      "See https://github.com/huggingface/transformers/pull/29402 for more details.\n",
      "Loading checkpoint shards: 100%|██████████| 4/4 [00:04<00:00,  1.17s/it]\n"
     ]
    }
   ],
   "source": [
    "import torch\n",
    "from transformers import AutoTokenizer, AutoModelForCausalLM\n",
    "from transformers.utils import is_flash_attn_2_available \n",
    "\n",
    "# quantization config \n",
    "from transformers import BitsAndBytesConfig\n",
    "quantization_config = BitsAndBytesConfig(load_in_4bit=True,\n",
    "                                        bnb_4bit_compute_dtype=torch.float16)\n",
    "\n",
    "\n",
    "if (is_flash_attn_2_available()) and (torch.cuda.get_device_capability(0)[0] >= 8):\n",
    "    attn_implementation = \"flash_attention_2\"\n",
    "else:\n",
    "    attn_implementation = \"sdpa\"\n",
    "print(f\"[INFO] Using attention implementation: {attn_implementation}\")\n",
    "\n",
    "\n",
    "model_id = \"google/gemma-7b-it\" \n",
    "\n",
    "#tokenizer\n",
    "tokenizer = AutoTokenizer.from_pretrained(pretrained_model_name_or_path=model_id)\n",
    "\n",
    "# model\n",
    "llm_model = AutoModelForCausalLM.from_pretrained(pretrained_model_name_or_path=model_id)\n"
   ]
  },
  {
   "cell_type": "code",
   "execution_count": 31,
   "metadata": {},
   "outputs": [
    {
     "name": "stderr",
     "output_type": "stream",
     "text": [
      "huggingface/tokenizers: The current process just got forked, after parallelism has already been used. Disabling parallelism to avoid deadlocks...\n",
      "To disable this warning, you can either:\n",
      "\t- Avoid using `tokenizers` before the fork if possible\n",
      "\t- Explicitly set the environment variable TOKENIZERS_PARALLELISM=(true | false)\n"
     ]
    },
    {
     "name": "stdout",
     "output_type": "stream",
     "text": [
      "Sun Aug 18 10:01:05 2024       \n",
      "+---------------------------------------------------------------------------------------+\n",
      "| NVIDIA-SMI 535.183.01             Driver Version: 535.183.01   CUDA Version: 12.2     |\n",
      "|-----------------------------------------+----------------------+----------------------+\n",
      "| GPU  Name                 Persistence-M | Bus-Id        Disp.A | Volatile Uncorr. ECC |\n",
      "| Fan  Temp   Perf          Pwr:Usage/Cap |         Memory-Usage | GPU-Util  Compute M. |\n",
      "|                                         |                      |               MIG M. |\n",
      "|=========================================+======================+======================|\n",
      "|   0  NVIDIA GeForce RTX 3090        Off | 00000000:01:00.0 Off |                  N/A |\n",
      "|  0%   32C    P8              22W / 370W |   7369MiB / 24576MiB |      0%      Default |\n",
      "|                                         |                      |                  N/A |\n",
      "+-----------------------------------------+----------------------+----------------------+\n",
      "                                                                                         \n",
      "+---------------------------------------------------------------------------------------+\n",
      "| Processes:                                                                            |\n",
      "|  GPU   GI   CI        PID   Type   Process name                            GPU Memory |\n",
      "|        ID   ID                                                             Usage      |\n",
      "|=======================================================================================|\n",
      "|    0   N/A  N/A      3951      C   /usr/bin/python3                            428MiB |\n",
      "|    0   N/A  N/A   3575610      C   /bin/python3                               5694MiB |\n",
      "|    0   N/A  N/A   3576253      C   /home/ai/TAC2-lbz/bin/python               1236MiB |\n",
      "+---------------------------------------------------------------------------------------+\n"
     ]
    }
   ],
   "source": [
    "!nvidia-smi"
   ]
  },
  {
   "cell_type": "code",
   "execution_count": 32,
   "metadata": {},
   "outputs": [
    {
     "data": {
      "text/plain": [
       "GemmaForCausalLM(\n",
       "  (model): GemmaModel(\n",
       "    (embed_tokens): Embedding(256000, 3072, padding_idx=0)\n",
       "    (layers): ModuleList(\n",
       "      (0-27): 28 x GemmaDecoderLayer(\n",
       "        (self_attn): GemmaSdpaAttention(\n",
       "          (q_proj): Linear(in_features=3072, out_features=4096, bias=False)\n",
       "          (k_proj): Linear(in_features=3072, out_features=4096, bias=False)\n",
       "          (v_proj): Linear(in_features=3072, out_features=4096, bias=False)\n",
       "          (o_proj): Linear(in_features=4096, out_features=3072, bias=False)\n",
       "          (rotary_emb): GemmaRotaryEmbedding()\n",
       "        )\n",
       "        (mlp): GemmaMLP(\n",
       "          (gate_proj): Linear(in_features=3072, out_features=24576, bias=False)\n",
       "          (up_proj): Linear(in_features=3072, out_features=24576, bias=False)\n",
       "          (down_proj): Linear(in_features=24576, out_features=3072, bias=False)\n",
       "          (act_fn): PytorchGELUTanh()\n",
       "        )\n",
       "        (input_layernorm): GemmaRMSNorm((3072,), eps=1e-06)\n",
       "        (post_attention_layernorm): GemmaRMSNorm((3072,), eps=1e-06)\n",
       "      )\n",
       "    )\n",
       "    (norm): GemmaRMSNorm((3072,), eps=1e-06)\n",
       "  )\n",
       "  (lm_head): Linear(in_features=3072, out_features=256000, bias=False)\n",
       ")"
      ]
     },
     "execution_count": 32,
     "metadata": {},
     "output_type": "execute_result"
    }
   ],
   "source": [
    "llm_model"
   ]
  },
  {
   "cell_type": "code",
   "execution_count": 33,
   "metadata": {},
   "outputs": [
    {
     "name": "stdout",
     "output_type": "stream",
     "text": [
      "prompt: \n",
      "<bos><start_of_turn>user\n",
      "give me a description about MES5448 data-center switches<end_of_turn>\n",
      "<start_of_turn>model\n",
      "\n"
     ]
    }
   ],
   "source": [
    "input_text = \"give me a description about MES5448 data-center switches\"\n",
    "\n",
    "# prompt\n",
    "\n",
    "template = [\n",
    "    {\n",
    "    \"role\": \"user\",\n",
    "    \"content\": input_text}\n",
    "]\n",
    "\n",
    "prompt= tokenizer.apply_chat_template(conversation=template, tokenize=False, add_generation_prompt=True)\n",
    "print(f\"prompt: \\n{prompt}\")"
   ]
  },
  {
   "cell_type": "code",
   "execution_count": 34,
   "metadata": {},
   "outputs": [],
   "source": [
    "input_ids = tokenizer(input_text, return_tensors=\"pt\").to(\"cpu\") # failed when using gpu\n",
    "\n",
    "output = llm_model.generate(**input_ids, max_new_tokens=256)\n",
    "\n"
   ]
  },
  {
   "cell_type": "code",
   "execution_count": 35,
   "metadata": {},
   "outputs": [
    {
     "data": {
      "text/plain": [
       "'<bos>give me a description about MES5448 data-center switches\\n\\n**MES5448 Data-Center Switches**\\n\\nThe Cisco MES5448 is a family of high-performance, scalable, and secure data-center switches designed to meet the demanding requirements of modern data centers. With their industry-leading performance, capacity, and security features, the MES5448 switches are well-suited for a wide range of data-center applications, including:\\n\\n**Key Features:**\\n\\n* **Scalable and Flexible:** Supports up to 48 ports in a 1U chassis, with the ability to expand to multiple chassis for even greater capacity.\\n* **High Performance:** Delivers industry-leading performance with low latency and high bandwidth.\\n* **Secure:** Features advanced security features such as Cisco TrustAnchorTM security modules and Cisco IOS XE software.\\n* **Energy-Efficient:** Consumes less power and heat than traditional data-center switches.\\n* **Simple to Manage:** Offers simplified management through Cisco Prime Infrastructure and Cisco NX-OS.\\n\\n**Benefits:**\\n\\n* **Reduced Costs:** Lower total cost of ownership (TCO) through energy efficiency, reduced hardware costs, and simplified management.\\n* **Improved Performance:** Enhances network performance and reduces latency.\\n* **Enhanced Security:**'"
      ]
     },
     "execution_count": 35,
     "metadata": {},
     "output_type": "execute_result"
    }
   ],
   "source": [
    "text_output = tokenizer.decode(output[0])\n",
    "\n",
    "text_output"
   ]
  },
  {
   "cell_type": "code",
   "execution_count": 36,
   "metadata": {},
   "outputs": [
    {
     "name": "stdout",
     "output_type": "stream",
     "text": [
      "[INFO] Time taken to get scores on 129 embeddings.\n"
     ]
    },
    {
     "data": {
      "text/plain": [
       "(tensor([0.4207, 0.4173, 0.4084, 0.4052, 0.3941], device='cuda:0'),\n",
       " tensor([  5,  16,  21, 105, 103], device='cuda:0'))"
      ]
     },
     "execution_count": 36,
     "metadata": {},
     "output_type": "execute_result"
    }
   ],
   "source": [
    "score, indices = retrieve_relevant_resources(query, embeddings)\n",
    "score, indices"
   ]
  },
  {
   "cell_type": "code",
   "execution_count": 42,
   "metadata": {},
   "outputs": [],
   "source": [
    "def prompt_formatter(query: str, context_items: list[dict]) -> str:\n",
    "    context = \"- \" + \"\\n- \".join([item[\"sentence_chunk\"] for item in context_items])\n",
    "    base_prompt = \"\"\"Based on the following context items, please answer the query.\n",
    "    Give yourself room to think by extracting relevant passages from the context before answering the query.\n",
    "    Don't return the thinking, only return the answer.\n",
    "    Make sure your answers are as explanatory as possible.\n",
    "    Use the following examples as reference for the ideal answer style.\n",
    "    \\nExample 1:\n",
    "    Query: What port does the 5324 switch support?\n",
    "    Answer: The device’s ports support operation at rates of 1 Gbps (SFP), 10 Gbps (SFP+) and 40 Gbps (QSFP) that provides flexible using and ability of smooth transition to higher data rates..\n",
    "    \\nExample 2:\n",
    "    Query:How does the Switch 5324 support AC/DC fans and power supply\n",
    "    Answer: \"The redundant and hot-swappable fans and AC/DC power supplies together with advanced hardware hardware monitoring functions provide high network reliability and uninterrupted services.\"\n",
    "    \\nExample 3:\n",
    "    Query:What is the quality of the service of this switch?\n",
    "    Answer: \"QoS statistics//IEEE 802.1p Class of Service (CoS)//Storm Control for different types of traffic (broadcast, multicast, unknown unicast)\"\n",
    "    \\nNow use the following context items to answer the user query:\n",
    "    {context}\n",
    "    \\nRelevant passages: <extract relevant passages from the context here>\n",
    "    User query: {query}\n",
    "    Answer:\"\"\"\n",
    "\n",
    "    base_prompt = base_prompt.format(context=context, query=query)\n",
    "    template = [\n",
    "        {\"role\": \"user\",\n",
    "        \"content\": base_prompt}\n",
    "    ]\n",
    "    prompt = tokenizer.apply_chat_template(conversation=template,\n",
    "                                        tokenize=False,\n",
    "                                        add_generation_prompt=True)\n",
    "    return prompt\n"
   ]
  },
  {
   "cell_type": "code",
   "execution_count": 43,
   "metadata": {},
   "outputs": [
    {
     "name": "stdout",
     "output_type": "stream",
     "text": [
      "Query: What are the Monitoring Functions of 5324?\n",
      "[INFO] Time taken to get scores on 129 embeddings.\n",
      "<bos><start_of_turn>user\n",
      "Based on the following context items, please answer the query.\n",
      "    Give yourself room to think by extracting relevant passages from the context before answering the query.\n",
      "    Don't return the thinking, only return the answer.\n",
      "    Make sure your answers are as explanatory as possible.\n",
      "    Use the following examples as reference for the ideal answer style.\n",
      "    \n",
      "Example 1:\n",
      "    Query: What port does the 5324 switch support?\n",
      "    Answer: The device’s ports support operation at rates of 1 Gbps (SFP), 10 Gbps (SFP+) and 40 Gbps (QSFP) that provides flexible using and ability of smooth transition to higher data rates..\n",
      "    \n",
      "Example 2:\n",
      "    Query:How does the Switch 5324 support AC/DC fans and power supply\n",
      "    Answer: \"The redundant and hot-swappable fans and AC/DC power supplies together with advanced hardware hardware monitoring functions provide high network reliability and uninterrupted services.\"\n",
      "    \n",
      "Example 3:\n",
      "    Query:What is the quality of the service of this switch?\n",
      "    Answer: \"QoS statistics//IEEE 802.1p Class of Service (CoS)//Storm Control for different types of traffic (broadcast, multicast, unknown unicast)\"\n",
      "    \n",
      "Now use the following context items to answer the user query:\n",
      "    - www.eltex-co.com 3 Features and capabilities (continued) ОАМ/CFM – 802.3ah Ethernet Link OAM – 802.1ag Connectivity Fault Management (CFM) – 802.3ah Unidirectional Link Detection (UDLD) Management functions – Download and upload of configuration file via TFTP/SCP/SFTP – Redirecting the output of CLI commands to an arbitrary file on ROM – SNMP – Command Line Interface (CLI) – Web interface – Syslog – SNTP (Simple Network Time Protocol) – Traceroute – LLDP (802.1ab) + LLDP MED – Processing traffic management with two 802.1Q headers – Authorization of entered commands using TACACS+ server – Access control – privilege levels – Management interface blocking – Local authentication – IP addresses filtering for SNMP – RADIUS, TACACS+ (Terminal Access Controller Access Control System) clients – Change of Authorization (CoA) – SSH server, Telnet server – SSH client, Telnet client – Remote start of commands via SSH – SSL – Macrocommands – CLI commands logging – System log – DHCP autoprovision – DHCP Relay (Option 82) – DHCP Option 12 – DHCP Relay, DHCPv6 LDRA (Option 18, 37) – DHCP server – PPPoE Circuit-ID tag – Debugging commands – Rate limit of traffic to CPU – Password encryption – Password recovery – Ping (IPv4/IPv6 support) – DNS server (Resolver) Monitoring functions – Statistics on interfaces – RMON/SMON – IP SLA – CPU utilization monitoring per task and per traffic type – RAM utilization monitoring – Temperature monitoring – TCAM utilization monitoring Data sheet Link Aggregation functions – Static LAG – Dynamic LAG (LACP) – LAG Balancing Algorithm – Multi-Switch Link Aggregation Group (MLAG) IPv6 functions – IPv6 Host – Dual-stack Service functions – Virtual Cable Testing (VCT) – Optical transceiver diagnostics – Green Ethernet Security functions – DHCP Snooping – DHCP Option 82 – IP Source Guard – Dynamic ARP Inspection – First Hop Security – sFlow – MAC-based authentication, Port Security, Static MAC entries – Port-based authentication IEEE 802.1x – Guest VLAN – DoS attack prevention – Traffic segmentation – Protection against non-authorized DHCP servers – DHCP clients filtering – BPDU attacks prevention – NetBIOS/NetBEUI filtering – PPPoE Intermediate Agent ACL (Access Control List) – L2-L3-L4 ACL – Time-Based ACL – IPv6 ACL – ACL based on: – Physical port number – IEEE 802.1p – VLAN ID – EtherType – DSCP – Protocol type – TCP/UDP port number – User Defined Bytes Quality of Service (QoS) and rate limiting – QoS statistics – Shaping, Policing – IEEE 802.1p Class of Service (CoS) – Storm Control for different types of traffic (broadcast, multicast, unknown unicast) – Bandwidth management – Scheduling algorithms: Strict Priority/Weighted Round Robin (WRR) – Three marking colors – ACL-based CoS/DSCP mark assignment – Setting the IEEE 802.1p priority for management VLAN – DSCP to CoS/CoS to DSCP remarking – ACL-based VLAN assignment – 802.1p, DSCP mark assignment for IGMP Integrated Networking Solutions MES series Access and Aggregation Ethernet Switches\n",
      "- 4 Features and capabilities (continued) OAM — IEEE 802.3ah, Ethernet OAM — IEEE 802.3ah Unidirectional Link Detection (UDLD) Main management functions — Download and upload of configuration file via TFTP/SFTP — Automated backup of configuration file via TFTP/SFTP — Simple Network Management Protocol (SNMP) — Command Line Interface (CLI) — Web interface — Syslog — SNTP (Simple Network Time Protocol) — Traceroute — LLDP (IEEE 802.1ab) + LLDP MED — Two 802.1Q headers traffic control — Commands Authorization using TACACS+ server — IPv4/IPv6 ACL support for device control — Switch access management — privilege levels for users — Management interface blocking — Local authentication — IP addresses filtering for SNMP — RADIUS and TACACS+ (Terminal Access Controller Access Control System) clients — Telnet client, SSH client — Telnet server, SSH server — Macro commands — Input commands logging via TACACS+ protocol — DHCP auto configuration — DHCP Relay (IРv4 support) — DHCP Relay Option 82 — DHCP server — PPPoE Circuit-ID tag adding — Flash File System — Debug commands — CPU traffic limiting — Password encryption — Ping (IPv4/IPv6 support) — IPv4/IPv6 static routing — Support for several versions of configuration file Monitoring functions — Interface statistics — CPU utilization monitoring per task and per queue — RAM usage monitoring — Temperature monitoring — TCAM monitoring 1 Uninterruptible power supply — Automatic switching to 12 V rechargeable battery when the primary power supply (220V) fails, and vice versa — 12 V battery charging when operating from 220 V primary power supply — Power supply type monitoring (SNMP) — Notification of switching from one type of power to another — Battery connection indication — Low battery alarm — Short circuit protection MIB/IETF standards — RFC 1065, 1066, 1155, 1156, 2578 MIB Structure — RFC 1212 Concise MIB Definitions — RFC 1213 MIB II — RFC 1215 MIB Traps Convention — RFC 1493, 4188 Bridge MIB — RFC 1157, 2571-2576 SNMP MIB — RFC 1901-1908, 3418, 3636, 1442, 2578 SNMPv2 MIB — RFC 2465 IPv6 MIB — RFC 2737 Entity MIB — RFC 4293 IPv6 SNMP Mgmt Interface MIB — Private MIB — RFC 1398, 1643, 1650, 2358, 2665, 3635 Ether-like MIB — RFC 2668 802.3 MAU MIB — RFC 2674, 4363 802.1p MIB — RFC 2233, 2863 IF MIB — RFC 2618 RADIUS Authentication Client MIB — RFC 4022 MIB for TCP — RFC 4113 MIB for UDP — RFC 3289 MIB for Diffserv — RFC 2620 RADIUS Accounting Client MIB — RFC 768 UDP — RFC 791 IP — RFC 792 ICMPv4 — RFC 2463, 4443 ICMPv6 — RFC 793 TCP — RFC 2474, 3260 Definition of the DS field in the IPv4 and IРv6 Headers — RFC 1321, 2284, 2865, 3580, 3748 Extensible Authentication Protocol (EAP) — RFC 2571, RFC 2572, RFC 2573, RFC 2574 SNMP — RFC 826 ARP — RFC 854 Telnet — IEC 61850 1 Only for MES2424B, MES2424FB, MES2448B and MES2448E. Data Sheet MES Ethernet Access Switches Integrated networking solutions www.eltex-co.com\n",
      "- Features and capabilities (continued) www.eltex-co.com 3 Data sheet Data center switches MES5410-48 Integrated networking solutions Link Aggregation functions – Link Aggregation Groups (LAG) – LACP – LAG Balancing Algorithm – Multi-Switch Link Aggregation Group (MLAG) IPv6 support – IРv6 Host – Dual-stack IРv6/IРv4 Service functions – Optical transceiver diagnostics Security functions – DHCP Snooping – DHCP Option 82 – IP Source Guard – Dynamic ARP Inspection – sFlow – MAC-based authentication, MAC address limitation, static MAC entries – Port-based authentication IEEE 802.1x – Guest VLAN – DoS attack prevention – Traffic segmentation – DHCP clients filtering – BPDU attack prevention – NetBIOS/NetBEUI filtering Access Control Lists (ACL) – L2-L3-L4 ACL – Time-Based ACL – IРv6 ACL – ACL based on: – Physical port number  – IEEE 802.1p  – VLAN ID  – EtherType  – DSCP  – Protocol type  – TCP/UDP port number Management functions – Configuration and firmware download and upload via TFTP/SCP – SNMP – Command Line Interface (CLI) – Web interface – Syslog – SNTP (Simple Network Time Protocol) – Traceroute – LLDP (IEEE 802.1ab) – Access control – privilege levels – Management ACL – Management interface blocking – Local authentication – IP addresses filtering for SNMP – RADIUS/TACACS+ (Terminal Access Controller Access Control System) client – SSH server – Telnet server – SSL – Macrocommands – CLI command logging – System log – DHCP auto provisioning – DHCP Relay (Option 82) – DHCP Option 12 – DHCP server – Debugging commands – CPU traffic limiting mechanisms – Password encryption – Password recovery – Ping (IPv4/IPv6) Monitoring functions – Interface statistics – Remote monitoring RMON/SMON – Task- and traffic type-based CPU utilization monitoring – Temperature monitoring – TCAM monitoring – IPFIX Quality of Service (QoS) and rate limiting – QoS statistics – Shaping, Policing – IEEE 802.1р Class of Service (CoS) – Broadcast Storm Control – Bandwidth management – Strict Priority/Weighted Round Robin (WRR) scheduling algorithms – Three marking colors – ACL-based CoS/DSCP assignment – ACL-based VLAN assignment – Setting the IEEE 802.1p priority for management VLAN – DSCP to CoS, CoS to DSCP remarking – 802.1p DSCP mark assignment for IGMP\n",
      "- 5 Related products PM160-220/12 PM160-220/12 power module, 100–240 V AC, 160 W PM100-48/12 PM100-48/12 power module, 36–72 V DC, 100 W Related software ECCM-MES5312 ECCM-MES5312 option of Eltex ECCM management system for ELTEX network elements management and monitoring: 1 network element MES5312 ECCM-MES5316A ECCM-MES5316A option of Eltex ECCM management system for ELTEX network elements management and monitoring: 1 network element MES5316A ECCM-MES5324A ECCM-MES5324A option of Eltex ECCM management system for ELTEX network elements management and monitoring: 1 network element MES5324A ECCM-MES5332A ECCM-MES5332A option of Eltex ECCM management system for ELTEX network elements management and monitoring: 1 network element MES5332A Ordering information (continued) MES5312, MES5316A, MES5324A, MES5332A Ethernet Aggregation Switch Data sheet Integrated Networking Solutions www.eltex-co.com Contact us ELTEX Enterprise is a leading Russian developer and manufacturer of communication equipment with 30 years of history. Complete solutions and their seamless integrability into the Customer's infrastructure are the priority growth areas of the company.+7 (383) 274 10 01 +7 (383) 274 48 48 eltex@eltex-co.ru www.eltex-co.com About ELTEX\n",
      "- www.eltex-co.com 4 Features and capabilities (continued) Data sheet Data center switches MES5400-24, MES5400-48 Integrated networking solutions MES5400-24 MES5400-48 Power supply AC: 100–240 V, 50–60 Hz DC: 36–72 V Power supply options: џ one AC/DC power source џ two AC/DC hot-swappable power sources AC: 170–264 V, 50–60 Hz DC: 36–72 V Power supply options: џ one AC/DC power source џ two AC/DC hot-swappable power sources Input current 0.5–1.7 A for AC 2–4 A for DC 0.5–1.0 A for AC 2–4.5 A for DC Maximum power consumption 150 W 180 W Heat dissipation 150 W 180 W Dying Gasp support no Operating temperature from 0 to +45 °С Storage temperature from -50 to +70 °С Operating humidity no more than 80 % Cooling Front-to-Back, 4 fans Dimensions (W × H × D) 440 × 44 × 321 mm 440 × 44 × 447 mm Weight 6.36 kg 8.84 kg Physical parameters – RFC 2737 Entity MIB – RFC 4293 IPv6 SNMP Mgmt Interface MIB – Private MIB – RFC 3289 DIFFSERV MIB – RFC 2021 RMONv2 MIB – RFC 1398, 1643, 1650, 2358, 2665, 3635 Ether-like MIB – RFC 2668 IEEE 802.3 MAU MIB – RFC 2674, 4363 IEEE 802.1p MIB – RFC 2233, 2863 IF MIB – RFC 2618 RADIUS Authentication Client MIB – RFC 4022 MIB for TCP – RFC 4113 MIB for UDP – RFC 3298 MIB for Diffserv – RFC 2620 RADIUS Accounting Client MIB – RFC 2925 Ping & Traceroute MIB – RFC 768 UDP – RFC 791 IP – RFC 792 ICMPv4 – RFC 2463, 4443 ICMPv6 – RFC 4884 Extended ICMP to support Multi-Part messages – RFC 793 TCP – RFC 2474, 3260 Definition of the Differentiated Services Field (DS Field) in the IPv4 and IPv6 headers – RFC 1321, 2284, 2865, 3580, 3748 Extensible Authentication Protocol (EAP) – RFC 2571-2574 SNMP – RFC 826 ARP\n",
      "    \n",
      "Relevant passages: <extract relevant passages from the context here>\n",
      "    User query: What are the Monitoring Functions of 5324?\n",
      "    Answer:<end_of_turn>\n",
      "<start_of_turn>model\n",
      "\n"
     ]
    }
   ],
   "source": [
    "query = \"What are the Monitoring Functions of 5324?\"\n",
    "print(f\"Query: {query}\")\n",
    "\n",
    "# Get relevant resources\n",
    "scores, indices = retrieve_relevant_resources(query=query,\n",
    "                                            embeddings=embeddings)\n",
    "    \n",
    "# Create a list of context items\n",
    "context_items = [pages_and_chunks[i] for i in indices]\n",
    "\n",
    "# Format prompt with context items\n",
    "prompt = prompt_formatter(query=query,\n",
    "                        context_items=context_items)\n",
    "print(prompt)"
   ]
  },
  {
   "cell_type": "code",
   "execution_count": 44,
   "metadata": {},
   "outputs": [
    {
     "name": "stdout",
     "output_type": "stream",
     "text": [
      "Query: What are the Monitoring Functions of 5324?\n",
      "RAG answer:\n",
      "<bos>Sure, here are the extracted relevant passages from the context that answer the user query:\n",
      "\n",
      "**Monitoring Functions of Switch 5324:**\n",
      "\n",
      "\"The Switch 5324 supports a wide range of monitoring functions, including:\n",
      "\n",
      "- Interface statistics\n",
      "- Remote monitoring RMON/SMON\n",
      "- Task- and traffic type-based CPU utilization monitoring\n",
      "- Temperature monitoring\n",
      "- TCAM monitoring\n",
      "- IPFIX Quality of Service (QoS) and rate limiting\n",
      "- QoS statistics\n",
      "- Shaping, Policing\n",
      "- IEEE 802.1p Class of Service (CoS)\n",
      "- Broadcast Storm Control\n",
      "- Bandwidth management\n",
      "- Strict Priority/Weighted Round Robin (WRR) scheduling algorithms\n",
      "- Three marking colors\n",
      "- ACL-based CoS/DSCP assignment\n",
      "- ACL-based VLAN assignment\n",
      "- Setting the IEEE 802.1p priority for management VLAN\n",
      "- DSCP to CoS, CoS to DSCP remarking\n",
      "- 802.1p DSCP mark assignment for IGMP\"\n",
      "\n",
      "Therefore, the answer to the user query is: The Switch 5324 supports a wide range of monitoring functions, including interface statistics, remote monitoring, task- and traffic type-based\n"
     ]
    },
    {
     "ename": "",
     "evalue": "",
     "output_type": "error",
     "traceback": [
      "\u001b[1;31mThe Kernel crashed while executing code in the current cell or a previous cell. \n",
      "\u001b[1;31mPlease review the code in the cell(s) to identify a possible cause of the failure. \n",
      "\u001b[1;31mClick <a href='https://aka.ms/vscodeJupyterKernelCrash'>here</a> for more info. \n",
      "\u001b[1;31mView Jupyter <a href='command:jupyter.viewOutput'>log</a> for further details."
     ]
    }
   ],
   "source": [
    "input_ids = tokenizer(prompt, return_tensors=\"pt\").to(\"cpu\")\n",
    "\n",
    "# Generate an output of tokens\n",
    "outputs = llm_model.generate(**input_ids,\n",
    "                            temperature=0.7, # lower temperature = more deterministic outputs, higher temperature = more creative outputs\n",
    "                            do_sample=True, \n",
    "                            max_new_tokens=256) \n",
    "\n",
    "# Turn the output tokens into text\n",
    "output_text = tokenizer.decode(outputs[0])\n",
    "\n",
    "print(f\"Query: {query}\")\n",
    "print(f\"RAG answer:\\n{output_text.replace(prompt, '')}\")"
   ]
  }
 ],
 "metadata": {
  "kernelspec": {
   "display_name": "TAC2-lbz",
   "language": "python",
   "name": "python3"
  },
  "language_info": {
   "codemirror_mode": {
    "name": "ipython",
    "version": 3
   },
   "file_extension": ".py",
   "mimetype": "text/x-python",
   "name": "python",
   "nbconvert_exporter": "python",
   "pygments_lexer": "ipython3",
   "version": "3.9.19"
  }
 },
 "nbformat": 4,
 "nbformat_minor": 2
}
